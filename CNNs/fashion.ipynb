{
  "nbformat": 4,
  "nbformat_minor": 0,
  "metadata": {
    "coursera": {
      "course_slug": "introduction-tensorflow",
      "graded_item_id": "ml06H",
      "launcher_item_id": "hQF8A"
    },
    "kernelspec": {
      "display_name": "Python 3",
      "language": "python",
      "name": "python3"
    },
    "language_info": {
      "codemirror_mode": {
        "name": "ipython",
        "version": 3
      },
      "file_extension": ".py",
      "mimetype": "text/x-python",
      "name": "python",
      "nbconvert_exporter": "python",
      "pygments_lexer": "ipython3",
      "version": "3.6.9"
    },
    "colab": {
      "name": "fashion.ipynb",
      "provenance": []
    }
  },
  "cells": [
    {
      "cell_type": "markdown",
      "metadata": {
        "id": "iQjHqsmTAVLU"
      },
      "source": [
        "# Fashion MNIST\n",
        "In this file we discuss how to apply CNNs to fashion MNIST dataset.\n",
        "The dataset contains 28*28 images of fashion items as described in details in this [link](https://github.com/zalandoresearch/fashion-mnist)"
      ]
    },
    {
      "cell_type": "code",
      "metadata": {
        "id": "4zcaiLeUNS4l"
      },
      "source": [
        "import tensorflow as tf\n",
        "from os import path, getcwd, chdir\n"
      ],
      "execution_count": 1,
      "outputs": []
    },
    {
      "cell_type": "code",
      "metadata": {
        "id": "kdmjTV5lerIL"
      },
      "source": [
        "class Early_stopping(tf.keras.callbacks.Callback):\n",
        "        def on_epoch_end(self, epoch, logs=None):\n",
        "            if logs['accuracy'] >= 0.998:\n",
        "                print('Reached 99.8% accuracy so let\\'s stop here!')\n",
        "                self.model.stop_training = True"
      ],
      "execution_count": 2,
      "outputs": []
    },
    {
      "cell_type": "code",
      "metadata": {
        "id": "e6LN8a3HNS4l"
      },
      "source": [
        "def train_mnist_conv():\n",
        "    mnist = tf.keras.datasets.mnist\n",
        "    (training_images, training_labels), (test_images, test_labels) = mnist.load_data()\n",
        "    \n",
        "    training_images = training_images / 255\n",
        "    n, h, w = training_images.shape\n",
        "    training_images = training_images.reshape((n, h, w, 1))\n",
        "    callback = Early_stopping()\n",
        "    \n",
        "\n",
        "    model = tf.keras.models.Sequential([\n",
        "            tf.keras.layers.Conv2D(5, (3,3), input_shape=(28,28,1), activation='relu'),\n",
        "            tf.keras.layers.MaxPool2D(),\n",
        "            tf.keras.layers.Flatten(),\n",
        "            tf.keras.layers.Dense(128, activation=tf.nn.relu),\n",
        "            tf.keras.layers.Dense(10, activation=tf.nn.softmax)\n",
        "    ])\n",
        "\n",
        "    model.compile(optimizer='adam', loss='sparse_categorical_crossentropy', metrics=['accuracy'])\n",
        "    # model fitting\n",
        "    history = model.fit(\n",
        "        x=training_images, y=training_labels, epochs=20, callbacks=[callback]\n",
        "    )\n",
        "    # model fitting\n",
        "    return history.epoch, history.history['accuracy'][-1]"
      ],
      "execution_count": 3,
      "outputs": []
    },
    {
      "cell_type": "code",
      "metadata": {
        "id": "-xIihx0lNS4l",
        "outputId": "a3fb79da-874f-4d5c-d1d0-b7056849298a",
        "colab": {
          "base_uri": "https://localhost:8080/"
        }
      },
      "source": [
        "_, _ = train_mnist_conv()"
      ],
      "execution_count": 4,
      "outputs": [
        {
          "output_type": "stream",
          "text": [
            "Epoch 1/20\n",
            "1875/1875 [==============================] - 19s 10ms/step - loss: 0.2116 - accuracy: 0.9380\n",
            "Epoch 2/20\n",
            "1875/1875 [==============================] - 19s 10ms/step - loss: 0.0795 - accuracy: 0.9763\n",
            "Epoch 3/20\n",
            "1875/1875 [==============================] - 19s 10ms/step - loss: 0.0555 - accuracy: 0.9828\n",
            "Epoch 4/20\n",
            "1875/1875 [==============================] - 19s 10ms/step - loss: 0.0418 - accuracy: 0.9869\n",
            "Epoch 5/20\n",
            "1875/1875 [==============================] - 20s 11ms/step - loss: 0.0322 - accuracy: 0.9901\n",
            "Epoch 6/20\n",
            "1875/1875 [==============================] - 20s 11ms/step - loss: 0.0256 - accuracy: 0.9920\n",
            "Epoch 7/20\n",
            "1875/1875 [==============================] - 20s 11ms/step - loss: 0.0203 - accuracy: 0.9932\n",
            "Epoch 8/20\n",
            "1875/1875 [==============================] - 19s 10ms/step - loss: 0.0150 - accuracy: 0.9953\n",
            "Epoch 9/20\n",
            "1875/1875 [==============================] - 20s 10ms/step - loss: 0.0123 - accuracy: 0.9962\n",
            "Epoch 10/20\n",
            "1875/1875 [==============================] - 19s 10ms/step - loss: 0.0111 - accuracy: 0.9961\n",
            "Epoch 11/20\n",
            "1875/1875 [==============================] - 19s 10ms/step - loss: 0.0090 - accuracy: 0.9970\n",
            "Epoch 12/20\n",
            "1875/1875 [==============================] - 19s 10ms/step - loss: 0.0077 - accuracy: 0.9976\n",
            "Epoch 13/20\n",
            "1875/1875 [==============================] - 20s 10ms/step - loss: 0.0071 - accuracy: 0.9976\n",
            "Epoch 14/20\n",
            "1873/1875 [============================>.] - ETA: 0s - loss: 0.0053 - accuracy: 0.9983Reached 99.8% accuracy so cancelling training!\n",
            "1875/1875 [==============================] - 19s 10ms/step - loss: 0.0053 - accuracy: 0.9983\n"
          ],
          "name": "stdout"
        }
      ]
    }
  ]
}