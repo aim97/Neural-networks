{
 "metadata": {
  "language_info": {
   "codemirror_mode": {
    "name": "ipython",
    "version": 3
   },
   "file_extension": ".py",
   "mimetype": "text/x-python",
   "name": "python",
   "nbconvert_exporter": "python",
   "pygments_lexer": "ipython3",
   "version": "3.6.12-final"
  },
  "orig_nbformat": 2,
  "kernelspec": {
   "name": "python3",
   "display_name": "Python 3",
   "language": "python"
  }
 },
 "nbformat": 4,
 "nbformat_minor": 2,
 "cells": [
  {
   "source": [
    "# Reset in Tensorflow\n",
    "Tensorflow includes some of the models proposed in the [Residual Network paper](https://arxiv.org/abs/1512.03385) under [tf.keras.applications](https://www.tensorflow.org/api_docs/python/tf/keras/applications/ResNet101).\n",
    "\n",
    "The Models included are:-\n",
    "- [ResNet50](https://www.tensorflow.org/api_docs/python/tf/keras/applications/ResNet50)\n",
    "- [ResNet101](https://www.tensorflow.org/api_docs/python/tf/keras/applications/ResNet101)\n",
    "- [ResNet152](https://www.tensorflow.org/api_docs/python/tf/keras/applications/ResNet152)\n",
    "\n",
    "There are also the 2nd version for each of them, proposed by another [paper](https://arxiv.org/abs/1603.05027) one year later in 2016, so we also have\n",
    "- [ResNet50V2](https://www.tensorflow.org/api_docs/python/tf/keras/applications/ResNet50V2)\n",
    "- [ResNet101V2](https://www.tensorflow.org/api_docs/python/tf/keras/applications/ResNet101V2)\n",
    "- [ResNet152V2](https://www.tensorflow.org/api_docs/python/tf/keras/applications/ResNet152V2)\n",
    "\n",
    "Each model can be instanciated by a function under `tf.keras.applications`. you can optionally choose to have the trained weights on imagenet dataset or not, also you can somewhat change in the network structure"
   ],
   "cell_type": "markdown",
   "metadata": {}
  },
  {
   "source": [
    "## Custtomization options\n",
    "The functions presented here have few parameters to control the returned model instance.\n",
    "\n",
    "```python\n",
    "# all of them have the same signature\n",
    "tf.keras.applications.ResNet50(\n",
    "    include_top=True, weights='imagenet', input_tensor=None,\n",
    "    input_shape=None, pooling=None, classes=1000, **kwargs\n",
    ")\n",
    "```\n",
    "\n",
    "\n",
    "1. **include_top**: `Bool` used to control keeping the first input layer (`True:Default`) or not (`False`).\n",
    "2. **weights**: it can either be:\n",
    "    1. None: for random initialization.\n",
    "    2. 'imagenet': `Default` for the weights trained on imagenet.\n",
    "    3. path: path to file that includes the weights to be loaded.\n",
    "3. **input_shape**: The shape of the `InputLayer` to be used, the `default` is (224, 224, 3).  \n",
    "The shape must have exactly 3 Dimensions, with width and height no less than 32.\n",
    "*NOTE: You can only specify a different size if `include_top=False`*\n",
    "4. **input_tensor**: an Optional input layer to be used.\n",
    "*NOTE: You can only specify a different layer if `include_top=False`*\n",
    "5. **classes**: The number of output classes to be used, 1000 by default (for imagenet).\n",
    "6. pooling: specifies if Pooling should be used or not.\n",
    "*NOTE: You can only specify a different value if `include_top=True` and weights argument is 'not specified'*."
   ],
   "cell_type": "markdown",
   "metadata": {}
  },
  {
   "cell_type": "code",
   "execution_count": 2,
   "metadata": {},
   "outputs": [],
   "source": [
    "import tensorflow as tf\n",
    "from tensorflow.keras.applications import ResNet50"
   ]
  },
  {
   "cell_type": "code",
   "execution_count": null,
   "metadata": {},
   "outputs": [],
   "source": [
    "# in order to create the model you need only import the function\n",
    "# and pass in the required parameters.\n",
    "model = ResNet50()"
   ]
  },
  {
   "cell_type": "code",
   "execution_count": null,
   "metadata": {},
   "outputs": [],
   "source": [
    "# in order to use the model you need to first apply some preprocessing to input image\n",
    "# the function for that is included here\n",
    "from tensorflow.keras.applications.resnet import preprocess_input\n",
    "\n",
    "# and it can be used as simple as\n",
    "image = preprocess_input(image)\n",
    "# them pass the output to the model\n",
    "labels = model(image)"
   ]
  },
  {
   "source": [
    "This kind of preprocessing is done by multiple models included in Tensorflow, and done in pretty much the same way, you can check it [here](https://www.tensorflow.org/api_docs/python/tf/keras/applications/resnet/preprocess_input)\n",
    "\n",
    "The code below builds a new model from the `MobileNet` model that first applies the required preprocessing, then passes the result to the imported model, it may not be as simple as in previous cell but it's the same concept.\n",
    "\n",
    "```python\n",
    "i = tf.keras.layers.Input([None, None, 3], dtype = tf.uint8)\n",
    "x = tf.cast(i, tf.float32)\n",
    "x = tf.keras.applications.mobilenet.preprocess_input(x)\n",
    "core = tf.keras.applications.MobileNet()\n",
    "x = core(x)\n",
    "model = tf.keras.Model(inputs=[i], outputs=[x])\n",
    "\n",
    "image = tf.image.decode_png(tf.io.read_file('file.png'))\n",
    "result = model(image)\n",
    "```"
   ],
   "cell_type": "markdown",
   "metadata": {}
  }
 ]
}