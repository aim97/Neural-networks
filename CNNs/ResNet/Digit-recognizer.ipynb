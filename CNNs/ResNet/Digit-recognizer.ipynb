{
 "cells": [
  {
   "source": [
    "# Digit Recognizer\n",
    "This is a simple demonstraction of using Resnet blocks on Handwritten digit recognision problem with MINST dataset available on [kaggle](https://www.kaggle.com/c/digit-recognizer) you can get it from there.  \n",
    "\n",
    "In this notebook, we use it locally from 'Datasets' folder outside the repo, so make sure to have that before running the notebook."
   ],
   "cell_type": "markdown",
   "metadata": {}
  },
  {
   "cell_type": "code",
   "execution_count": 31,
   "metadata": {
    "pycharm": {
     "is_executing": true
    }
   },
   "outputs": [],
   "source": [
    "# imports\n",
    "import tensorflow as tf\n",
    "from tensorflow.keras.layers import Conv2D, MaxPool2D, Dense, Flatten,Activation, BatchNormalization\n",
    "import pandas as pd\n",
    "import matplotlib.pyplot as plt\n",
    "import numpy as np"
   ]
  },
  {
   "cell_type": "code",
   "execution_count": 7,
   "metadata": {
    "pycharm": {
     "is_executing": true,
     "name": "#%%\n"
    }
   },
   "outputs": [],
   "source": [
    "def read_ds(csv_file, img_sz):\n",
    "    df = pd.read_csv(csv_file).values\n",
    "    n = df.shape[0]\n",
    "    h, w = img_sz\n",
    "    train_labels = df[:, 0]\n",
    "    train_images = df[:, 1:].reshape((n, h, w, 1))\n",
    "    return train_images, train_labels"
   ]
  },
  {
   "cell_type": "code",
   "execution_count": 8,
   "metadata": {
    "pycharm": {
     "is_executing": true,
     "name": "#%%\n"
    }
   },
   "outputs": [
    {
     "name": "stdout",
     "output_type": "stream",
     "text": [
      "we have 42000 records in the dataset\n"
     ]
    },
    {
     "data": {
      "image/png": "[encoded data removed]",
      "text/plain": [
       "<Figure size 432x288 with 1 Axes>"
      ]
     },
     "metadata": {
      "needs_background": "light"
     },
     "output_type": "display_data"
    }
   ],
   "source": [
    "training_images, training_labels = read_ds('../../../Datasets/MINST/digit-recognizer/train.csv', (28, 28))\n",
    "\n",
    "print('we have {} records in the dataset'.format(training_labels.shape[0]))\n",
    "plt.imshow(training_images[0].reshape(28, 28))\n",
    "plt.show()"
   ]
  },
  {
   "cell_type": "code",
   "execution_count": 9,
   "metadata": {
    "pycharm": {
     "is_executing": true,
     "name": "#%%\n"
    }
   },
   "outputs": [],
   "source": [
    "# Normalization\n",
    "training_images = training_images / 255.0"
   ]
  },
  {
   "cell_type": "code",
   "execution_count": 30,
   "metadata": {},
   "outputs": [],
   "source": [
    "# this function simplifies the build of a neural net, by stacking\n",
    "# layers on top of one another in the pipe, you can easily \n",
    "# build a neural net without having to define input and output\n",
    "# at least not in the pipe.\n",
    "# it will return a function that will call the functions (the layers) you passed\n",
    "# in order, we use this function to create the block to be passed to ResBlock function\n",
    "def pipe(functions):\n",
    "    def loopOverFuns(X):\n",
    "        for f in functions:\n",
    "            X = f(X)\n",
    "        return X\n",
    "    return loopOverFuns"
   ]
  },
  {
   "source": [
    "## ResBlock\n",
    "This function takes two parameters  \n",
    "1. X: the Tensor input to the neural net\n",
    "2. block: a function of the block of layers you want the input to pass through\n",
    "\n",
    "Here we only allow identity mapping so the block output size must be same as X.shape"
   ],
   "cell_type": "markdown",
   "metadata": {}
  },
  {
   "cell_type": "code",
   "execution_count": 20,
   "metadata": {},
   "outputs": [],
   "source": [
    "def ResBlock(X, block):\n",
    "  Y = X\n",
    "  X = block(X)\n",
    "  X = tf.keras.layers.Add()([X, Y])\n",
    "  return X"
   ]
  },
  {
   "cell_type": "code",
   "execution_count": 38,
   "metadata": {
    "pycharm": {
     "is_executing": true,
     "name": "#%%\n"
    }
   },
   "outputs": [],
   "source": [
    "# create the model\n",
    "block = lambda X: MaxPool2D()(Conv2D(32, (3,3), padding='same')(X))\n",
    "block = pipe([\n",
    "    Conv2D(32, (3,3), padding='same'),\n",
    "    BatchNormalization(axis = 3),\n",
    "    Activation('relu')\n",
    "])\n",
    "\n",
    "\n",
    "X = tf.keras.Input(shape=(28,28,1))\n",
    "I = Conv2D(32, (3,3))(X)\n",
    "I = MaxPool2D()(I)\n",
    "I = ResBlock(I, block)\n",
    "I = ResBlock(I, block)\n",
    "I = Flatten()(I)\n",
    "I = Dense(128, activation=tf.nn.relu)(I)\n",
    "out = Dense(10, activation=tf.nn.softmax)(I)\n",
    "\n",
    "model = tf.keras.Model(inputs=[X], outputs=[out])"
   ]
  },
  {
   "cell_type": "code",
   "execution_count": 39,
   "metadata": {
    "pycharm": {
     "is_executing": true,
     "name": "#%%\n"
    }
   },
   "outputs": [],
   "source": [
    "model.compile(\n",
    "    loss=tf.keras.losses.sparse_categorical_crossentropy,\n",
    "    optimizer='adam',\n",
    "    metrics=['accuracy'],\n",
    ")"
   ]
  },
  {
   "cell_type": "code",
   "execution_count": 41,
   "metadata": {
    "pycharm": {
     "is_executing": true,
     "name": "#%%\n"
    }
   },
   "outputs": [
    {
     "name": "stdout",
     "output_type": "stream",
     "text": [
      "Train on 42000 samples\n",
      "Epoch 1/5\n",
      "42000/42000 [==============================] - 77s 2ms/sample - loss: 0.0888 - accuracy: 0.9726\n",
      "Epoch 2/5\n",
      "42000/42000 [==============================] - 82s 2ms/sample - loss: 0.0525 - accuracy: 0.9832\n",
      "Epoch 3/5\n",
      "42000/42000 [==============================] - 73s 2ms/sample - loss: 0.0372 - accuracy: 0.9881\n",
      "Epoch 4/5\n",
      "42000/42000 [==============================] - 74s 2ms/sample - loss: 0.0321 - accuracy: 0.9899\n",
      "Epoch 5/5\n",
      "42000/42000 [==============================] - 75s 2ms/sample - loss: 0.0251 - accuracy: 0.9922\n"
     ]
    },
    {
     "data": {
      "text/plain": [
       "<tensorflow.python.keras.callbacks.History at 0xd48f6fc518>"
      ]
     },
     "execution_count": 41,
     "metadata": {},
     "output_type": "execute_result"
    }
   ],
   "source": [
    "model.fit(\n",
    "    x = training_images,\n",
    "    y = training_labels,\n",
    "    epochs=5\n",
    ")"
   ]
  },
  {
   "cell_type": "code",
   "execution_count": 42,
   "metadata": {
    "pycharm": {
     "name": "#%%\n"
    }
   },
   "outputs": [
    {
     "name": "stdout",
     "output_type": "stream",
     "text": [
      "(28000, 10)\n",
      "[[0. 0. 1. ... 0. 0. 0.]\n",
      " [1. 0. 0. ... 0. 0. 0.]\n",
      " [0. 0. 0. ... 0. 0. 1.]\n",
      " ...\n",
      " [0. 0. 0. ... 0. 0. 0.]\n",
      " [0. 0. 0. ... 0. 0. 1.]\n",
      " [0. 0. 1. ... 0. 0. 0.]]\n"
     ]
    }
   ],
   "source": [
    "# Testing\n",
    "test_df = pd.read_csv('../../Kaggle/MINST/digit-recognizer/test.csv').values\n",
    "test_images = test_df.reshape((test_df.shape[0], 28, 28, 1))\n",
    "\n",
    "out = model.predict(test_images)\n",
    "\n",
    "print(out.shape)\n",
    "print(out)\n"
   ]
  },
  {
   "cell_type": "code",
   "execution_count": 43,
   "metadata": {},
   "outputs": [
    {
     "name": "stdout",
     "output_type": "stream",
     "text": [
      "[2 0 9 ... 3 9 2]\n"
     ]
    }
   ],
   "source": [
    "labels = np.argmax(out, axis=1)\n",
    "print(labels)"
   ]
  },
  {
   "cell_type": "code",
   "execution_count": 44,
   "metadata": {},
   "outputs": [
    {
     "name": "stdout",
     "output_type": "stream",
     "text": [
      "[[    1     2]\n",
      " [    2     0]\n",
      " [    3     9]\n",
      " ...\n",
      " [27998     3]\n",
      " [27999     9]\n",
      " [28000     2]]\n"
     ]
    }
   ],
   "source": [
    "imageIds = np.arange(1, labels.shape[0]+1, 1)\n",
    "results = np.array([imageIds, labels]).T\n",
    "print(results)"
   ]
  },
  {
   "cell_type": "code",
   "execution_count": 45,
   "metadata": {},
   "outputs": [
    {
     "name": "stdout",
     "output_type": "stream",
     "text": [
      "       ImageId  Label\n",
      "0            1      2\n",
      "1            2      0\n",
      "2            3      9\n",
      "3            4      0\n",
      "4            5      3\n",
      "...        ...    ...\n",
      "27995    27996      9\n",
      "27996    27997      7\n",
      "27997    27998      3\n",
      "27998    27999      9\n",
      "27999    28000      2\n",
      "\n",
      "[28000 rows x 2 columns]\n"
     ]
    }
   ],
   "source": [
    "results_df = pd.DataFrame(results, columns=['ImageId','Label'])\n",
    "print(results_df)"
   ]
  },
  {
   "cell_type": "code",
   "execution_count": 46,
   "metadata": {
    "pycharm": {
     "name": "#%%\n"
    }
   },
   "outputs": [],
   "source": [
    "results_df.to_csv('out.csv', index=False)"
   ]
  },
  {
   "cell_type": "code",
   "execution_count": null,
   "metadata": {
    "pycharm": {
     "name": "#%%\n"
    }
   },
   "outputs": [],
   "source": [
    "\n"
   ]
  },
  {
   "cell_type": "code",
   "execution_count": null,
   "metadata": {},
   "outputs": [],
   "source": []
  }
 ],
 "metadata": {
  "kernelspec": {
   "display_name": "Python 3",
   "language": "python",
   "name": "python3"
  },
  "language_info": {
   "codemirror_mode": {
    "name": "ipython",
    "version": 3
   },
   "file_extension": ".py",
   "mimetype": "text/x-python",
   "name": "python",
   "nbconvert_exporter": "python",
   "pygments_lexer": "ipython3",
   "version": "3.6.12"
  }
 },
 "nbformat": 4,
 "nbformat_minor": 1
}