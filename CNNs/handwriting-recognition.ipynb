{
  "nbformat": 4,
  "nbformat_minor": 0,
  "metadata": {
    "kernelspec": {
      "display_name": "Python 3",
      "language": "python",
      "name": "python3"
    },
    "language_info": {
      "codemirror_mode": {
        "name": "ipython",
        "version": 2
      },
      "file_extension": ".py",
      "mimetype": "text/x-python",
      "name": "python",
      "nbconvert_exporter": "python",
      "pygments_lexer": "ipython2",
      "version": "2.7.6"
    },
    "colab": {
      "name": "handwriting-recognition.ipynb",
      "provenance": [],
      "include_colab_link": true
    }
  },
  "cells": [
    {
      "cell_type": "markdown",
      "metadata": {
        "id": "view-in-github",
        "colab_type": "text"
      },
      "source": [
        "<a href=\"https://colab.research.google.com/github/aim97/Neural-networks/blob/master/5-CNNs/handwriting-recognition.ipynb\" target=\"_parent\"><img src=\"https://colab.research.google.com/assets/colab-badge.svg\" alt=\"Open In Colab\"/></a>"
      ]
    },
    {
      "cell_type": "markdown",
      "metadata": {
        "collapsed": false,
        "pycharm": {
          "name": "#%% md\n"
        },
        "id": "3dhJtstkq95U",
        "colab_type": "text"
      },
      "source": [
        "# Handwriting recognition\n",
        "Demo on using Convolutional neural networks (CNNs)\n"
      ]
    },
    {
      "cell_type": "code",
      "metadata": {
        "id": "DENbW0CbrAmk",
        "colab_type": "code",
        "colab": {}
      },
      "source": [
        "# add the necessary imports\n",
        "import tensorflow as tf\n",
        "from tensorflow import keras\n",
        "import numpy as np\n",
        "import matplotlib.pyplot as plt"
      ],
      "execution_count": 0,
      "outputs": []
    },
    {
      "cell_type": "markdown",
      "metadata": {
        "id": "tdJ7YZQWr2mz",
        "colab_type": "text"
      },
      "source": [
        "First things first we need to load the dataset for the training **MINST**, luckily for us, the dataset we need is available on keras by default through *keras datasets* so we need only choose the dataset we will work on and load it as follows\n",
        "\n",
        "### MNIST dataset\n",
        "- It's a dataset for handwritten English numbers.\n",
        "- the labels are obviously 10 the digits from 0 to 9.\n",
        "- the data are images of 28*28 pixels, grayscale images of handwritten numbers."
      ]
    },
    {
      "cell_type": "code",
      "metadata": {
        "id": "UduxUUCQrM7L",
        "colab_type": "code",
        "colab": {}
      },
      "source": [
        "# load the data\n",
        "minst = keras.datasets.mnist\n",
        "(tr_data, tr_labels), (ts_data, ts_labels) = minst.load_data()"
      ],
      "execution_count": 0,
      "outputs": []
    },
    {
      "cell_type": "markdown",
      "metadata": {
        "id": "MEPb2IeEso72",
        "colab_type": "text"
      },
      "source": [
        "As you meight know, Neural nets work better when data are normalized specially in vaues bettween 0 and 1, since we know the maximum value for the image pixel is 255, we will divide by that to normalize image pixels of data images.\n",
        "\n",
        "We also need to reshape the input images to match the expected shape of the Convolutional layer which expects a 3 dimensional shape, so the images becomes 3 dimentional as well by adding another dimension for pixel values.\n",
        "\n",
        "\n",
        "<sub><sup><i>**Note:** we wouldn't need the reshape if images were colored, since we already had a third dimension for the channels.</i></sup><sub>"
      ]
    },
    {
      "cell_type": "code",
      "metadata": {
        "id": "L89vOCyOrw7i",
        "colab_type": "code",
        "colab": {
          "base_uri": "https://localhost:8080/",
          "height": 85
        },
        "outputId": "368095f7-7c44-4899-f9de-7d665dc23990"
      },
      "source": [
        "# normalize image pixels\n",
        "tr_data = tr_data / 255\n",
        "tr_data = tr_data.reshape(tr_data.shape[0], 28, 28, 1)\n",
        "ts_data = ts_data / 255\n",
        "ts_data = ts_data.reshape(ts_data.shape[0], 28, 28, 1)\n",
        "\n",
        "# dataset shape\n",
        "print('training data shape: {}'.format(tr_data.shape))\n",
        "print('training lebels shape: {}'.format(tr_labels.shape))\n",
        "print('testing data shape: {}'.format(ts_data.shape))\n",
        "print('testing labels shape: {}'.format(ts_labels.shape))"
      ],
      "execution_count": 16,
      "outputs": [
        {
          "output_type": "stream",
          "text": [
            "training data shape: (60000, 28, 28, 1)\n",
            "training lebels shape: (60000,)\n",
            "testing data shape: (10000, 28, 28, 1)\n",
            "testing labels shape: (10000,)\n"
          ],
          "name": "stdout"
        }
      ]
    },
    {
      "cell_type": "code",
      "metadata": {
        "id": "jXHWT83qsHs4",
        "colab_type": "code",
        "colab": {
          "base_uri": "https://localhost:8080/",
          "height": 282
        },
        "outputId": "13fb1e00-30aa-471b-ff6d-ea43a3f1a3fc"
      },
      "source": [
        "# show item\n",
        "print('first label: {}'.format(tr_labels[0]))\n",
        "plt.imshow(tr_data[0,:,:,0])\n",
        "plt.show()"
      ],
      "execution_count": 17,
      "outputs": [
        {
          "output_type": "stream",
          "text": [
            "first label: 5\n"
          ],
          "name": "stdout"
        },
        {
          "output_type": "display_data",
          "data": {
            "image/png": "[encoded data removed]",
            "text/plain": [
              "<Figure size 432x288 with 1 Axes>"
            ]
          },
          "metadata": {
            "tags": [],
            "needs_background": "light"
          }
        }
      ]
    },
    {
      "cell_type": "code",
      "metadata": {
        "id": "ilvl9eRjtCDG",
        "colab_type": "code",
        "colab": {}
      },
      "source": [
        "# build the model\n",
        "model = keras.Sequential([\n",
        "    keras.layers.Conv2D(64, (3,3), activation='relu', input_shape=(28, 28,1)),\n",
        "    keras.layers.MaxPooling2D(2, 2),\n",
        "    keras.layers.Conv2D(64, (3,3), activation='relu'),\n",
        "    keras.layers.MaxPooling2D(2,2),\n",
        "    keras.layers.Flatten(),\n",
        "    keras.layers.Dense(128, activation='relu'),\n",
        "    keras.layers.Dense(10, activation='softmax')\n",
        "])\n",
        "model.compile(\n",
        "    optimizer='adam',\n",
        "    loss='sparse_categorical_crossentropy',\n",
        "    metrics=['accuracy']\n",
        ")"
      ],
      "execution_count": 0,
      "outputs": []
    },
    {
      "cell_type": "code",
      "metadata": {
        "id": "lDEuSvmM90LS",
        "colab_type": "code",
        "colab": {}
      },
      "source": [
        "# let's test after each epoch of training to see how well it's going\n",
        "class Test_each_epoch(keras.callbacks.Callback):\n",
        "  def on_epoch_end(self, epoch, logs={}):\n",
        "    model.evaluate(ts_data, ts_labels)\n",
        "\n",
        "# define call back\n",
        "call_back = Test_each_epoch()\n"
      ],
      "execution_count": 0,
      "outputs": []
    },
    {
      "cell_type": "code",
      "metadata": {
        "id": "laG7EVoUt8xp",
        "colab_type": "code",
        "colab": {
          "base_uri": "https://localhost:8080/",
          "height": 289
        },
        "outputId": "7de2a3a7-3524-4d5b-cbf4-faec443236ef"
      },
      "source": [
        "# fit the mode\n",
        "model.fit(x=tr_data, y=tr_labels, epochs=5, callbacks=[call_back])"
      ],
      "execution_count": 20,
      "outputs": [
        {
          "output_type": "stream",
          "text": [
            "Epoch 1/5\n",
            "313/313 [==============================] - 4s 12ms/step - loss: 0.0508 - accuracy: 0.9826\n",
            "1875/1875 [==============================] - 80s 43ms/step - loss: 0.1191 - accuracy: 0.9631\n",
            "Epoch 2/5\n",
            "313/313 [==============================] - 4s 12ms/step - loss: 0.0287 - accuracy: 0.9910\n",
            "1875/1875 [==============================] - 79s 42ms/step - loss: 0.0429 - accuracy: 0.9866\n",
            "Epoch 3/5\n",
            "313/313 [==============================] - 4s 12ms/step - loss: 0.0305 - accuracy: 0.9899\n",
            "1875/1875 [==============================] - 80s 43ms/step - loss: 0.0282 - accuracy: 0.9914\n",
            "Epoch 4/5\n",
            "313/313 [==============================] - 4s 12ms/step - loss: 0.0335 - accuracy: 0.9899\n",
            "1875/1875 [==============================] - 80s 43ms/step - loss: 0.0213 - accuracy: 0.9933\n",
            "Epoch 5/5\n",
            "313/313 [==============================] - 4s 12ms/step - loss: 0.0311 - accuracy: 0.9907\n",
            "1875/1875 [==============================] - 80s 43ms/step - loss: 0.0150 - accuracy: 0.9953\n"
          ],
          "name": "stdout"
        },
        {
          "output_type": "execute_result",
          "data": {
            "text/plain": [
              "<tensorflow.python.keras.callbacks.History at 0x7f301ff552e8>"
            ]
          },
          "metadata": {
            "tags": []
          },
          "execution_count": 20
        }
      ]
    },
    {
      "cell_type": "code",
      "metadata": {
        "id": "ZN7ejnpRuIVs",
        "colab_type": "code",
        "colab": {
          "base_uri": "https://localhost:8080/",
          "height": 51
        },
        "outputId": "ee333330-f49f-48c2-fea6-a9a29ce045be"
      },
      "source": [
        "# test model\n",
        "model.evaluate(ts_data, ts_labels)"
      ],
      "execution_count": 21,
      "outputs": [
        {
          "output_type": "stream",
          "text": [
            "313/313 [==============================] - 4s 12ms/step - loss: 0.0311 - accuracy: 0.9907\n"
          ],
          "name": "stdout"
        },
        {
          "output_type": "execute_result",
          "data": {
            "text/plain": [
              "[0.03111807256937027, 0.9907000064849854]"
            ]
          },
          "metadata": {
            "tags": []
          },
          "execution_count": 21
        }
      ]
    }
  ]
}