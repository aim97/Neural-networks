{
 "cells": [
  {
   "cell_type": "code",
   "execution_count": 7,
   "metadata": {
    "pycharm": {
     "is_executing": true
    }
   },
   "outputs": [],
   "source": [
    "# imports\n",
    "import tensorflow as tf\n",
    "from tensorflow.keras.layers import Conv2D, MaxPool2D, Dense, Flatten\n",
    "import pandas as pd\n",
    "import matplotlib.pyplot as plt\n",
    "import numpy as np"
   ]
  },
  {
   "cell_type": "code",
   "execution_count": 8,
   "metadata": {
    "pycharm": {
     "is_executing": true,
     "name": "#%%\n"
    }
   },
   "outputs": [],
   "source": [
    "def read_ds(csv_file, img_sz):\n",
    "    df = pd.read_csv(csv_file).values\n",
    "    n = df.shape[0]\n",
    "    h, w = img_sz\n",
    "    train_labels = df[:, 0]\n",
    "    train_images = df[:, 1:].reshape((n, h, w, 1))\n",
    "    return train_images, train_labels"
   ]
  },
  {
   "cell_type": "code",
   "execution_count": 9,
   "metadata": {
    "pycharm": {
     "is_executing": true,
     "name": "#%%\n"
    }
   },
   "outputs": [
    {
     "name": "stdout",
     "output_type": "stream",
     "text": [
      "we have 42000 records in the dataset\n"
     ]
    },
    {
     "data": {
      "image/png": "[encoded data removed]",
      "text/plain": [
       "<Figure size 432x288 with 1 Axes>"
      ]
     },
     "metadata": {
      "needs_background": "light"
     },
     "output_type": "display_data"
    }
   ],
   "source": [
    "training_images, training_labels = read_ds('./digit-recognizer/train.csv', (28, 28))\n",
    "\n",
    "print('we have {} records in the dataset'.format(training_labels.shape[0]))\n",
    "plt.imshow(training_images[0].reshape(28, 28))\n",
    "plt.show()"
   ]
  },
  {
   "cell_type": "code",
   "execution_count": 10,
   "metadata": {
    "pycharm": {
     "is_executing": true,
     "name": "#%%\n"
    }
   },
   "outputs": [],
   "source": [
    "# Normalization\n",
    "training_images = training_images / 255.0"
   ]
  },
  {
   "cell_type": "code",
   "execution_count": 11,
   "metadata": {
    "pycharm": {
     "is_executing": true,
     "name": "#%%\n"
    }
   },
   "outputs": [],
   "source": [
    "# create the model\n",
    "model = tf.keras.Sequential([\n",
    "    Conv2D(64, (3,3), input_shape=(28, 28, 1)), # 26\n",
    "    MaxPool2D(), # 13\n",
    "    Conv2D(32, (3,3)), # 11\n",
    "    MaxPool2D(),\n",
    "    Flatten(),\n",
    "    Dense(128, activation=tf.nn.relu),\n",
    "    Dense(10, activation=tf.nn.softmax)\n",
    "])"
   ]
  },
  {
   "cell_type": "code",
   "execution_count": 15,
   "metadata": {
    "pycharm": {
     "is_executing": true,
     "name": "#%%\n"
    }
   },
   "outputs": [],
   "source": [
    "model.compile(\n",
    "    loss=tf.keras.losses.sparse_categorical_crossentropy,\n",
    "    optimizer='adam',\n",
    "    metrics=['accuracy'],\n",
    ")"
   ]
  },
  {
   "cell_type": "code",
   "execution_count": null,
   "metadata": {
    "pycharm": {
     "is_executing": true,
     "name": "#%%\n"
    }
   },
   "outputs": [
    {
     "name": "stdout",
     "output_type": "stream",
     "text": [
      "Epoch 1/50\n",
      "1313/1313 [==============================] - 33s 25ms/step - loss: 0.1651 - accuracy: 0.9486\n",
      "Epoch 2/50\n",
      "1313/1313 [==============================] - 34s 26ms/step - loss: 0.0508 - accuracy: 0.9846\n",
      "Epoch 3/50\n",
      "1313/1313 [==============================] - 33s 25ms/step - loss: 0.0345 - accuracy: 0.9888\n",
      "Epoch 4/50\n",
      "1313/1313 [==============================] - 33s 25ms/step - loss: 0.0266 - accuracy: 0.9917\n",
      "Epoch 5/50\n",
      "1313/1313 [==============================] - 32s 25ms/step - loss: 0.0205 - accuracy: 0.9932\n",
      "Epoch 6/50\n",
      "1313/1313 [==============================] - 32s 25ms/step - loss: 0.0177 - accuracy: 0.9942\n",
      "Epoch 7/50\n",
      "1313/1313 [==============================] - 33s 25ms/step - loss: 0.0142 - accuracy: 0.9950\n",
      "Epoch 8/50\n",
      "1313/1313 [==============================] - 33s 25ms/step - loss: 0.0133 - accuracy: 0.9955\n",
      "Epoch 9/50\n",
      "1313/1313 [==============================] - 33s 25ms/step - loss: 0.0117 - accuracy: 0.9961\n",
      "Epoch 10/50\n",
      "1313/1313 [==============================] - 33s 25ms/step - loss: 0.0120 - accuracy: 0.9964\n",
      "Epoch 11/50\n",
      "1313/1313 [==============================] - 33s 25ms/step - loss: 0.0106 - accuracy: 0.9969\n",
      "Epoch 12/50\n",
      "1313/1313 [==============================] - 33s 25ms/step - loss: 0.0082 - accuracy: 0.9976\n",
      "Epoch 13/50\n",
      "1313/1313 [==============================] - 33s 25ms/step - loss: 0.0086 - accuracy: 0.9976\n",
      "Epoch 14/50\n",
      "1313/1313 [==============================] - 33s 25ms/step - loss: 0.0096 - accuracy: 0.9972\n",
      "Epoch 15/50\n",
      "1313/1313 [==============================] - 33s 25ms/step - loss: 0.0080 - accuracy: 0.9978\n",
      "Epoch 16/50\n",
      "1313/1313 [==============================] - 33s 25ms/step - loss: 0.0061 - accuracy: 0.9980\n",
      "Epoch 17/50\n",
      "1313/1313 [==============================] - 33s 25ms/step - loss: 0.0113 - accuracy: 0.9968\n",
      "Epoch 18/50\n",
      "1313/1313 [==============================] - 33s 25ms/step - loss: 0.0075 - accuracy: 0.9976\n",
      "Epoch 19/50\n",
      "1313/1313 [==============================] - 33s 25ms/step - loss: 0.0068 - accuracy: 0.9981\n",
      "Epoch 20/50\n",
      "1313/1313 [==============================] - 33s 25ms/step - loss: 0.0078 - accuracy: 0.9977\n",
      "Epoch 21/50\n",
      "1313/1313 [==============================] - 33s 25ms/step - loss: 0.0095 - accuracy: 0.9976\n",
      "Epoch 22/50\n",
      "1313/1313 [==============================] - 33s 25ms/step - loss: 0.0038 - accuracy: 0.9990\n",
      "Epoch 23/50\n",
      "1313/1313 [==============================] - 33s 25ms/step - loss: 0.0103 - accuracy: 0.9978\n",
      "Epoch 24/50\n",
      "1313/1313 [==============================] - 33s 25ms/step - loss: 0.0088 - accuracy: 0.9979\n",
      "Epoch 25/50\n",
      "1313/1313 [==============================] - 33s 25ms/step - loss: 0.0087 - accuracy: 0.9980\n",
      "Epoch 26/50\n",
      "1313/1313 [==============================] - 33s 25ms/step - loss: 0.0073 - accuracy: 0.9981\n",
      "Epoch 27/50\n",
      "1313/1313 [==============================] - 33s 25ms/step - loss: 0.0056 - accuracy: 0.9986\n",
      "Epoch 28/50\n",
      "1313/1313 [==============================] - 33s 25ms/step - loss: 0.0082 - accuracy: 0.9982\n",
      "Epoch 29/50\n",
      "1313/1313 [==============================] - 33s 25ms/step - loss: 0.0057 - accuracy: 0.9986\n",
      "Epoch 30/50\n",
      "1313/1313 [==============================] - 33s 25ms/step - loss: 0.0074 - accuracy: 0.9982\n",
      "Epoch 31/50\n",
      "1313/1313 [==============================] - 33s 25ms/step - loss: 0.0109 - accuracy: 0.9979\n",
      "Epoch 32/50\n",
      "1313/1313 [==============================] - 32s 25ms/step - loss: 0.0043 - accuracy: 0.9989\n",
      "Epoch 33/50\n",
      "1313/1313 [==============================] - 32s 25ms/step - loss: 0.0066 - accuracy: 0.9985\n",
      "Epoch 34/50\n",
      "1313/1313 [==============================] - 32s 25ms/step - loss: 0.0095 - accuracy: 0.9980\n",
      "Epoch 35/50\n",
      "1313/1313 [==============================] - 33s 25ms/step - loss: 0.0068 - accuracy: 0.9985\n",
      "Epoch 36/50\n",
      "1313/1313 [==============================] - 33s 25ms/step - loss: 0.0045 - accuracy: 0.9990\n",
      "Epoch 37/50\n",
      "1313/1313 [==============================] - 32s 25ms/step - loss: 0.0086 - accuracy: 0.9984\n",
      "Epoch 38/50\n",
      "1313/1313 [==============================] - 32s 25ms/step - loss: 0.0081 - accuracy: 0.9982\n",
      "Epoch 39/50\n",
      "1313/1313 [==============================] - 32s 25ms/step - loss: 0.0061 - accuracy: 0.9989\n",
      "Epoch 40/50\n",
      "1313/1313 [==============================] - 33s 25ms/step - loss: 0.0028 - accuracy: 0.9995\n",
      "Epoch 41/50\n",
      "1313/1313 [==============================] - 33s 25ms/step - loss: 0.0088 - accuracy: 0.9983\n",
      "Epoch 42/50\n",
      "1313/1313 [==============================] - 33s 25ms/step - loss: 0.0084 - accuracy: 0.9984\n",
      "Epoch 43/50\n",
      "1313/1313 [==============================] - 33s 25ms/step - loss: 0.0074 - accuracy: 0.9988\n",
      "Epoch 44/50\n",
      "1313/1313 [==============================] - 33s 25ms/step - loss: 0.0068 - accuracy: 0.9986\n",
      "Epoch 45/50\n",
      "1313/1313 [==============================] - 33s 25ms/step - loss: 0.0143 - accuracy: 0.9978\n",
      "Epoch 46/50\n",
      "1313/1313 [==============================] - 33s 25ms/step - loss: 0.0056 - accuracy: 0.9988\n",
      "Epoch 47/50\n",
      "1313/1313 [==============================] - 33s 25ms/step - loss: 0.0041 - accuracy: 0.9993\n",
      "Epoch 48/50\n",
      "1313/1313 [==============================] - 33s 25ms/step - loss: 0.0115 - accuracy: 0.9980\n",
      "Epoch 49/50\n",
      "1313/1313 [==============================] - 33s 25ms/step - loss: 0.0047 - accuracy: 0.9990\n",
      "Epoch 50/50\n",
      "  23/1313 [..............................] - ETA: 30s - loss: 0.0429 - accuracy: 0.9959"
     ]
    }
   ],
   "source": [
    "model.fit(\n",
    "    x = training_images,\n",
    "    y = training_labels,\n",
    "    epochs=50\n",
    ")"
   ]
  },
  {
   "cell_type": "code",
   "execution_count": 18,
   "metadata": {
    "pycharm": {
     "name": "#%%\n"
    }
   },
   "outputs": [
    {
     "name": "stdout",
     "output_type": "stream",
     "text": [
      "(28000, 10)\n",
      "[[0. 0. 1. ... 0. 0. 0.]\n",
      " [1. 0. 0. ... 0. 0. 0.]\n",
      " [0. 0. 0. ... 0. 0. 1.]\n",
      " ...\n",
      " [0. 0. 0. ... 0. 0. 0.]\n",
      " [0. 0. 0. ... 0. 0. 1.]\n",
      " [0. 0. 1. ... 0. 0. 0.]]\n"
     ]
    }
   ],
   "source": [
    "# Testing\n",
    "test_df = pd.read_csv('./digit-recognizer/test.csv').values\n",
    "test_images = test_df.reshape((test_df.shape[0], 28, 28, 1))\n",
    "\n",
    "out = model.predict(test_images)\n",
    "\n",
    "print(out.shape)\n",
    "print(out)\n"
   ]
  },
  {
   "cell_type": "code",
   "execution_count": 21,
   "metadata": {},
   "outputs": [
    {
     "name": "stdout",
     "output_type": "stream",
     "text": [
      "[2 0 9 ... 3 9 2]\n"
     ]
    }
   ],
   "source": [
    "labels = np.argmax(out, axis=1)\n",
    "print(labels)"
   ]
  },
  {
   "cell_type": "code",
   "execution_count": 26,
   "metadata": {},
   "outputs": [
    {
     "name": "stdout",
     "output_type": "stream",
     "text": [
      "[[    1     2]\n",
      " [    2     0]\n",
      " [    3     9]\n",
      " ...\n",
      " [27998     3]\n",
      " [27999     9]\n",
      " [28000     2]]\n"
     ]
    }
   ],
   "source": [
    "imageIds = np.arange(1, labels.shape[0]+1, 1)\n",
    "results = np.array([imageIds, labels]).T\n",
    "print(results)"
   ]
  },
  {
   "cell_type": "code",
   "execution_count": 28,
   "metadata": {},
   "outputs": [
    {
     "name": "stdout",
     "output_type": "stream",
     "text": [
      "       ImageId  Label\n",
      "0            1      2\n",
      "1            2      0\n",
      "2            3      9\n",
      "3            4      9\n",
      "4            5      3\n",
      "...        ...    ...\n",
      "27995    27996      9\n",
      "27996    27997      7\n",
      "27997    27998      3\n",
      "27998    27999      9\n",
      "27999    28000      2\n",
      "\n",
      "[28000 rows x 2 columns]\n"
     ]
    }
   ],
   "source": [
    "results_df = pd.DataFrame(results, columns=['ImageId','Label'])\n",
    "print(results_df)"
   ]
  },
  {
   "cell_type": "code",
   "execution_count": 31,
   "outputs": [],
   "source": [
    "results_df.to_csv('out.csv', index=False)"
   ],
   "metadata": {
    "collapsed": false,
    "pycharm": {
     "name": "#%%\n"
    }
   }
  },
  {
   "cell_type": "code",
   "execution_count": null,
   "outputs": [],
   "source": [
    "\n"
   ],
   "metadata": {
    "collapsed": false,
    "pycharm": {
     "name": "#%%\n"
    }
   }
  },
  {
   "cell_type": "code",
   "execution_count": null,
   "metadata": {},
   "outputs": [],
   "source": []
  }
 ],
 "metadata": {
  "kernelspec": {
   "display_name": "Python 3",
   "language": "python",
   "name": "python3"
  },
  "language_info": {
   "codemirror_mode": {
    "name": "ipython",
    "version": 3
   },
   "file_extension": ".py",
   "mimetype": "text/x-python",
   "name": "python",
   "nbconvert_exporter": "python",
   "pygments_lexer": "ipython3",
   "version": "3.6.9"
  }
 },
 "nbformat": 4,
 "nbformat_minor": 1
}