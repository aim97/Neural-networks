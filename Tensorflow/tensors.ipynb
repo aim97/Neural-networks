{
 "cells": [
  {
   "cell_type": "markdown",
   "source": [
    "# Tensors\n",
    "\n",
    "Mathematically, a tensor is a concept of a datastructure that can hold data in a variety of ways. it can hold a scalar, a string, or the most usual case a multidimensional array.\n",
    "\n",
    "In tensorflow, a tensor can be created as either a constant or a variable.\n",
    "\n",
    "## Variables\n",
    "\n",
    "To create a vairable, you use the `tf.Variable` class like this:\n",
    "\n",
    "```python\n",
    "x = tf.Variable(3.0) # x is a variable that holds a scalar of 3.0\n",
    "```\n",
    "\n",
    "Here 3.0 is refered to as the `inital_value`.it's important to note the dimensionality of the variable, while we now have a scaler, we can also have a vector, matrix, or event list of strings; so usually you will pass two additional arguments to the `tf.Variable` constructor: the shape of the tensor, and data type of its individual values, while they can be infered from the `initial_value` if not specified, it's usually best to specify them explicitly, specially the data type.\n",
    "\n",
    "```python\n",
    "x = tf.Variable([2, 3], shape=(2,) ,dtype=tf.float32) # x is a variable that holds a vector of 2 elements, of type float32\n",
    "```\n",
    "\n",
    "usually we wouldn't pass shape since it can be inferred from the `initial_value` if not specified, but it's best to specify it to make sure the shape of initial_value is what you expect and nothing else. shape errors are very common with tensorflow. if a mismatch occurs, it will raise an error.\n",
    "\n",
    "The `shape` is not just there for semantic reasons only, it can be used to set the dimensionality of a tensor to be unknown, by `shape=tf.TensorShape(None)`. which can be useful for some cases.\n",
    "\n",
    "You can read the value stored in a variable by using `tensor.read_value().numpy()`\n",
    "\n",
    "## Constants\n",
    "\n",
    "They are tensors whose values can't be changed, they are created using `tf.constant` with an initial (and final) value.\n",
    "\n",
    "```python\n",
    "c = tf.constant(3.0) # c is a constant tensor with value 3.0\n",
    "```\n",
    "\n",
    "Unlike Variables, declaring constants is more flexible, for example: the shape provided is used to reshape the given value if possible.\n",
    "\n",
    "```python\n",
    "c = tf.constant([1, 2, 3, 4, 5, 6], shape=(2,3)) # c is a matrix of shape (2,3), for variables this would cause an error\n",
    "# > [[1, 2, 3],[4, 5, 6]]\n",
    "```\n",
    "\n",
    "and if the given value is a scaler, it will be broadcasted to the shape, so:\n",
    "\n",
    "```python\n",
    "c = tf.constant(3.0, shape=(3,3)) # c is a matrix of shape (3, 3) with all elements equal 3.0\n",
    "# > [[3, 3, 3],[3, 3, 3],[3, 3, 3]]\n",
    "```\n",
    "\n"
   ],
   "metadata": {}
  },
  {
   "cell_type": "code",
   "execution_count": 1,
   "source": [
    "import tensorflow as tf\n",
    "import numpy as np\n",
    "import matplotlib.pyplot as plt\n",
    "%matplotlib inline"
   ],
   "outputs": [],
   "metadata": {}
  },
  {
   "cell_type": "code",
   "execution_count": 2,
   "source": [
    "# autoreload\n",
    "%load_ext autoreload\n",
    "%autoreload 2"
   ],
   "outputs": [],
   "metadata": {}
  },
  {
   "cell_type": "markdown",
   "source": [
    "Variables are important since there are used to hold the weights, biases, inputs and outputs of a neural network. variables can be marked as `trainable` or not, depending on how you want to optimize the model, and we already saw this in action while creating a [custom model](./custom_model.ipynb).\n",
    "\n",
    "To access the weights of a model you can use: `model.weights` or `model.variables`."
   ],
   "metadata": {}
  },
  {
   "cell_type": "code",
   "execution_count": 3,
   "source": [
    "from simple_model import get_simple_regression_model\n",
    "\n",
    "model = get_simple_regression_model()\n",
    "\n",
    "print(model.variables)                  # print all variables\n",
    "\n",
    "print(model.trainable_variables)        # print all trainable variables, all in this case\n",
    "\n",
    "print(model.non_trainable_variables)    # print all non-trainable variables, none in this case\n",
    "\n",
    "print(model.weights)                    # print all variables"
   ],
   "outputs": [
    {
     "output_type": "stream",
     "name": "stdout",
     "text": [
      "[<tf.Variable 'dense/kernel:0' shape=(1, 1) dtype=float32, numpy=array([[1.2279576]], dtype=float32)>, <tf.Variable 'dense/bias:0' shape=(1,) dtype=float32, numpy=array([0.], dtype=float32)>]\n",
      "[<tf.Variable 'dense/kernel:0' shape=(1, 1) dtype=float32, numpy=array([[1.2279576]], dtype=float32)>, <tf.Variable 'dense/bias:0' shape=(1,) dtype=float32, numpy=array([0.], dtype=float32)>]\n",
      "[]\n",
      "[<tf.Variable 'dense/kernel:0' shape=(1, 1) dtype=float32, numpy=array([[1.2279576]], dtype=float32)>, <tf.Variable 'dense/bias:0' shape=(1,) dtype=float32, numpy=array([0.], dtype=float32)>]\n"
     ]
    }
   ],
   "metadata": {}
  },
  {
   "cell_type": "markdown",
   "source": [
    "# Operations on Tensors\n",
    "\n",
    "Tensors support all operations you need, you may think you would need to: read the value in the tensor, mutate it, then reasign it, but you don't, Tensorflow provides functions to apply operations on tensors, like `tf.add`, `tf.subtract`, `tf.multiply`, ... etc. it's just like using numpy, it even supports broadcasting.\n",
    "\n",
    "```python\n",
    "tf.add([1, 2, 3], [4, 5, 6]) # > tf.Tensor([5, 7, 9], shape=(3,), dtype=int32)\n",
    "```\n",
    "\n",
    "one very useful operation is `tf.cast` which is used to change the data type held by the tensor.\n",
    "Tensorflow also supports operator overloading, so you can do the samething like this.\n",
    "\n",
    "```python\n",
    "tf.Tensor([1, 2, 3]) + tf.Tensor([4, 5, 6]) # > tf.Tensor([5, 7, 9], shape=(3,), dtype=int32)\n",
    "```\n",
    "\n",
    "## Compatability with Numpy\n",
    "\n",
    "Tensors can be passed to numpy functions, so you can do the samething like this:\n",
    "\n",
    "```python\n",
    "a = tf.Tensor([1, 2, 3])\n",
    "b = np.array([4, 5, 6])\n",
    "np.multiply(a, b) # > [4, 10, 18]\n",
    "```\n",
    "\n",
    "The tensors are first evaluted as numpy arrays and then the operation is done.\n",
    "\n",
    "It also goes the other way around, numpy arrays can be passed to tensorflow functions, and the result is a tensor, you can use `tensor.numpy()` to access the numpy array within.\n"
   ],
   "metadata": {}
  },
  {
   "cell_type": "markdown",
   "source": [
    "# Examples"
   ],
   "metadata": {}
  },
  {
   "cell_type": "code",
   "execution_count": 4,
   "source": [
    "# Create a 1D uint8 NumPy array comprising of first 25 natural numbers\n",
    "x = np.arange(0, 25)\n",
    "x"
   ],
   "outputs": [
    {
     "output_type": "execute_result",
     "data": {
      "text/plain": [
       "array([ 0,  1,  2,  3,  4,  5,  6,  7,  8,  9, 10, 11, 12, 13, 14, 15, 16,\n",
       "       17, 18, 19, 20, 21, 22, 23, 24])"
      ]
     },
     "metadata": {},
     "execution_count": 4
    }
   ],
   "metadata": {}
  },
  {
   "cell_type": "code",
   "execution_count": 5,
   "source": [
    "# Convert NumPy array to Tensor using `tf.constant`\n",
    "x = tf.constant(x)\n",
    "x"
   ],
   "outputs": [
    {
     "output_type": "execute_result",
     "data": {
      "text/plain": [
       "<tf.Tensor: shape=(25,), dtype=int32, numpy=\n",
       "array([ 0,  1,  2,  3,  4,  5,  6,  7,  8,  9, 10, 11, 12, 13, 14, 15, 16,\n",
       "       17, 18, 19, 20, 21, 22, 23, 24])>"
      ]
     },
     "metadata": {},
     "execution_count": 5
    }
   ],
   "metadata": {}
  },
  {
   "cell_type": "code",
   "execution_count": 6,
   "source": [
    "# Square the input tensor x\n",
    "x = tf.square(x)\n",
    "x"
   ],
   "outputs": [
    {
     "output_type": "execute_result",
     "data": {
      "text/plain": [
       "<tf.Tensor: shape=(25,), dtype=int32, numpy=\n",
       "array([  0,   1,   4,   9,  16,  25,  36,  49,  64,  81, 100, 121, 144,\n",
       "       169, 196, 225, 256, 289, 324, 361, 400, 441, 484, 529, 576])>"
      ]
     },
     "metadata": {},
     "execution_count": 6
    }
   ],
   "metadata": {}
  },
  {
   "cell_type": "code",
   "execution_count": 7,
   "source": [
    "# Reshape tensor x into a 5 x 5 matrix. \n",
    "x = tf.reshape(x, (5, 5))\n",
    "x"
   ],
   "outputs": [
    {
     "output_type": "execute_result",
     "data": {
      "text/plain": [
       "<tf.Tensor: shape=(5, 5), dtype=int32, numpy=\n",
       "array([[  0,   1,   4,   9,  16],\n",
       "       [ 25,  36,  49,  64,  81],\n",
       "       [100, 121, 144, 169, 196],\n",
       "       [225, 256, 289, 324, 361],\n",
       "       [400, 441, 484, 529, 576]])>"
      ]
     },
     "metadata": {},
     "execution_count": 7
    }
   ],
   "metadata": {}
  },
  {
   "cell_type": "code",
   "execution_count": 8,
   "source": [
    "# Cast tensor x into float32. Notice the change in the dtype.\n",
    "x = tf.cast(x, tf.float32)\n",
    "x"
   ],
   "outputs": [
    {
     "output_type": "execute_result",
     "data": {
      "text/plain": [
       "<tf.Tensor: shape=(5, 5), dtype=float32, numpy=\n",
       "array([[  0.,   1.,   4.,   9.,  16.],\n",
       "       [ 25.,  36.,  49.,  64.,  81.],\n",
       "       [100., 121., 144., 169., 196.],\n",
       "       [225., 256., 289., 324., 361.],\n",
       "       [400., 441., 484., 529., 576.]], dtype=float32)>"
      ]
     },
     "metadata": {},
     "execution_count": 8
    }
   ],
   "metadata": {}
  },
  {
   "cell_type": "code",
   "execution_count": 9,
   "source": [
    "# Let's define a constant and see how broadcasting works in the following cell.\n",
    "y = tf.constant(2, dtype=tf.float32)\n",
    "y"
   ],
   "outputs": [
    {
     "output_type": "execute_result",
     "data": {
      "text/plain": [
       "<tf.Tensor: shape=(), dtype=float32, numpy=2.0>"
      ]
     },
     "metadata": {},
     "execution_count": 9
    }
   ],
   "metadata": {}
  },
  {
   "cell_type": "code",
   "execution_count": 10,
   "source": [
    "# Multiply tensor `x` and `y`. `y` is multiplied to each element of x.\n",
    "result = tf.multiply(x, y)\n",
    "result"
   ],
   "outputs": [
    {
     "output_type": "execute_result",
     "data": {
      "text/plain": [
       "<tf.Tensor: shape=(5, 5), dtype=float32, numpy=\n",
       "array([[   0.,    2.,    8.,   18.,   32.],\n",
       "       [  50.,   72.,   98.,  128.,  162.],\n",
       "       [ 200.,  242.,  288.,  338.,  392.],\n",
       "       [ 450.,  512.,  578.,  648.,  722.],\n",
       "       [ 800.,  882.,  968., 1058., 1152.]], dtype=float32)>"
      ]
     },
     "metadata": {},
     "execution_count": 10
    }
   ],
   "metadata": {}
  },
  {
   "cell_type": "code",
   "execution_count": 11,
   "source": [
    "# Now let's define an array that matches the number of row elements in the `x` array.\n",
    "y = tf.constant([1, 2, 3, 4, 5], dtype=tf.float32)\n",
    "y"
   ],
   "outputs": [
    {
     "output_type": "execute_result",
     "data": {
      "text/plain": [
       "<tf.Tensor: shape=(5,), dtype=float32, numpy=array([1., 2., 3., 4., 5.], dtype=float32)>"
      ]
     },
     "metadata": {},
     "execution_count": 11
    }
   ],
   "metadata": {}
  },
  {
   "cell_type": "code",
   "execution_count": 12,
   "source": [
    "# Add tensor `x` and `y`. `y` is added element wise to each row of `x`.\n",
    "result = x + y\n",
    "result"
   ],
   "outputs": [
    {
     "output_type": "execute_result",
     "data": {
      "text/plain": [
       "<tf.Tensor: shape=(5, 5), dtype=float32, numpy=\n",
       "array([[  1.,   3.,   7.,  13.,  21.],\n",
       "       [ 26.,  38.,  52.,  68.,  86.],\n",
       "       [101., 123., 147., 173., 201.],\n",
       "       [226., 258., 292., 328., 366.],\n",
       "       [401., 443., 487., 533., 581.]], dtype=float32)>"
      ]
     },
     "metadata": {},
     "execution_count": 12
    }
   ],
   "metadata": {}
  }
 ],
 "metadata": {
  "orig_nbformat": 4,
  "language_info": {
   "name": "python",
   "version": "3.9.7",
   "mimetype": "text/x-python",
   "codemirror_mode": {
    "name": "ipython",
    "version": 3
   },
   "pygments_lexer": "ipython3",
   "nbconvert_exporter": "python",
   "file_extension": ".py"
  },
  "kernelspec": {
   "name": "python3",
   "display_name": "Python 3.9.7 64-bit ('TFX': conda)"
  },
  "interpreter": {
   "hash": "8290c4fa312f0275d52774cf1cfc50565c3a57a31ddf7b44870733d485867938"
  }
 },
 "nbformat": 4,
 "nbformat_minor": 2
}