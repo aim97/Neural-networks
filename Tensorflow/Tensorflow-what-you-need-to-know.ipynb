{
 "cells": [
  {
   "cell_type": "markdown",
   "source": [
    "# Tensorflow\n",
    "\n",
    "## content\n",
    "1. Tensorflow 1 workflow\n",
    "2. Tensorflow 2 what's new\n",
    "3. Model training in tensorflow 2.0\n",
    "4. Usually used functions"
   ],
   "metadata": {
    "collapsed": true,
    "pycharm": {
     "name": "#%% md\n"
    }
   }
  },
  {
   "cell_type": "markdown",
   "source": [
    "## Tensorflow1 Workflow\n",
    "![Tensorflow-work-flow](../images/Tensorflow-work-flow.png)  \n",
    "Tensorflow is based on a **computation graph**, you first have to specify how the model will work through the computation graph, this part is just **DECLARATIVE**, you don't do any compuations here, you simply specify how the computations will be done.  \n",
    "\n",
    "Then you need to specify the *hyper parameters* like learning rate, *loss function*, *optimizer*, ... etc, all of this affect the results.\n",
    "\n",
    "Now we have a clear idea about how the computation will occur in the model and how the model should be trained we have to start a ***Session***, whatever work you want tensorflow to do, it has to be done within the scope of a session.\n",
    "\n",
    "Remember that we said the computation graph is a declarative process, so in order to work with what we declared we have to actually initialize it, and allocate memory for it first.  \n",
    "\n",
    "**Training the model**: this what we actually use tensorflow for, given the computation graph you provided tensorflow randomly initializes the weights, runs the graph, and then optimizes the weights.  \n",
    "\n",
    "This is the overall view of how **Tensorflow** works.\n"
   ],
   "metadata": {
    "pycharm": {
     "name": "#%% md\n"
    }
   }
  },
  {
   "cell_type": "markdown",
   "source": [
    "# Tensorflow 2 What's new\n",
    "This is all from the past, the past were to tensorflow was really hard to code and work with, so what have changed?\n",
    "\n",
    "- **No more Sessions and welcome Eager execution**: rather than cutting the work flow into declarative part to define the graph and execution part within the session, now *tensorflow code is like any other code*, you write your code and execute it in the spot.\n",
    "- **Keras is now more implemented inside tensorflow** and become more scalable: estimators were removed and now your work will scale on its own.\n",
    "- **API clean up (strctured update)**: changes in function names, modules, most of v1.x stuff were moved under ***tf.compat.v1. ...*** you can use it from there, except the contrib part which was removed for good.\n",
    "- **No more globals**: if you lose a variable it gets garbage collected.\n",
    "\n",
    "you can find more by watching [this](https://www.youtube.com/watch?v=k5c-vg4rjBw) or reading [that](https://www.tensorflow.org/guide/effective_tf2)\n"
   ],
   "metadata": {}
  },
  {
   "cell_type": "markdown",
   "source": [
    "### Examples on Tensorflow 2"
   ],
   "metadata": {}
  },
  {
   "cell_type": "code",
   "execution_count": 1,
   "source": [
    "# import numpy as np\n",
    "import tensorflow as tf\n",
    "# import matplotlib.pyplot as plt"
   ],
   "outputs": [],
   "metadata": {}
  },
  {
   "cell_type": "code",
   "execution_count": 2,
   "source": [
    "a = tf.constant(4)\n",
    "b = tf.constant(5)\n",
    "c = a + b\n",
    "print(c)"
   ],
   "outputs": [
    {
     "output_type": "stream",
     "name": "stdout",
     "text": [
      "tf.Tensor(9, shape=(), dtype=int32)\n"
     ]
    }
   ],
   "metadata": {}
  },
  {
   "cell_type": "markdown",
   "source": [
    "## Model training in Tensorflow 2\n",
    "it's very similar to the diagram above except with no sessions, you first define the model, *compile it*, train it, then run it. "
   ],
   "metadata": {}
  },
  {
   "cell_type": "code",
   "execution_count": 4,
   "source": [
    "# first import the needed layers\n",
    "from tensorflow.keras.layers import Dense"
   ],
   "outputs": [],
   "metadata": {}
  },
  {
   "cell_type": "markdown",
   "source": [
    "# Sequential model\n",
    "\n",
    "First we need to create a sequential model, this is the most basic model in tensorflow, it's a linear stack of layers, you can think of it as a stack of layers, each layer is a function that takes the output of the previous layer as input and returns the output of the next layer.\n",
    "Later we will see more complex models where we will use the tensorflow [functional API](https://www.tensorflow.org/guide/keras/functional).\n"
   ],
   "metadata": {}
  },
  {
   "cell_type": "code",
   "execution_count": 8,
   "source": [
    "# define the model\n",
    "# this is the simplest model, consisiting of a single neuron, with single input and linear activation\n",
    "model = tf.keras.Sequential([\n",
    "  Dense(units=1, input_shape=[1])\n",
    "])"
   ],
   "outputs": [],
   "metadata": {}
  },
  {
   "cell_type": "markdown",
   "source": [
    "# Model compilation\n",
    "\n",
    "In this part we will see how to compile a model, this is the first step of training a model, we use it to specify *loss function*, *optimizer*, *metrics* and *optimizer* to the model, youn can check the [docs](https://www.tensorflow.org/api_docs/python/tf/keras/Model#compile) for more.\n"
   ],
   "metadata": {}
  },
  {
   "cell_type": "code",
   "execution_count": 9,
   "source": [
    "# compile the model\n",
    "model.compile(optimizer='sgd', loss='mean_squared_error')"
   ],
   "outputs": [],
   "metadata": {}
  },
  {
   "cell_type": "code",
   "execution_count": 5,
   "source": [
    "# load the data\n",
    "# let's learn some linear function y = 5 * x + 10\n",
    "import numpy as np\n",
    "x = np.arange(0, 10, 0.1)\n",
    "y = 5 * x + 10"
   ],
   "outputs": [],
   "metadata": {}
  },
  {
   "cell_type": "markdown",
   "source": [
    "# Model training\n",
    "\n",
    "In this part we will see how to train a model, we will use the [Keras API](https://www.tensorflow.org/guide/keras/overview) to train a model, we need to pass the data to train on, as well as some training parameters like `batch_size`, `epochs` ...etc, you can check the [docs](https://www.tensorflow.org/api_docs/python/tf/keras/Model#fit) for more."
   ],
   "metadata": {}
  },
  {
   "cell_type": "code",
   "execution_count": 10,
   "source": [
    "history = model.fit(x, y, epochs=100)"
   ],
   "outputs": [
    {
     "output_type": "stream",
     "name": "stdout",
     "text": [
      "Epoch 1/100\n",
      "4/4 [==============================] - 2s 3ms/step - loss: 478.3211\n",
      "Epoch 2/100\n",
      "4/4 [==============================] - 0s 2ms/step - loss: 20.2273\n",
      "Epoch 3/100\n",
      "4/4 [==============================] - 0s 2ms/step - loss: 19.3224\n",
      "Epoch 4/100\n",
      "4/4 [==============================] - 0s 3ms/step - loss: 18.9901\n",
      "Epoch 5/100\n",
      "4/4 [==============================] - 0s 3ms/step - loss: 18.3042\n",
      "Epoch 6/100\n",
      "4/4 [==============================] - 0s 2ms/step - loss: 17.5097\n",
      "Epoch 7/100\n",
      "4/4 [==============================] - 0s 3ms/step - loss: 17.3142\n",
      "Epoch 8/100\n",
      "4/4 [==============================] - 0s 2ms/step - loss: 15.8682\n",
      "Epoch 9/100\n",
      "4/4 [==============================] - 0s 2ms/step - loss: 15.4212\n",
      "Epoch 10/100\n",
      "4/4 [==============================] - 0s 2ms/step - loss: 14.5589\n",
      "Epoch 11/100\n",
      "4/4 [==============================] - 0s 3ms/step - loss: 14.1197\n",
      "Epoch 12/100\n",
      "4/4 [==============================] - 0s 2ms/step - loss: 13.7016\n",
      "Epoch 13/100\n",
      "4/4 [==============================] - 0s 2ms/step - loss: 12.7487\n",
      "Epoch 14/100\n",
      "4/4 [==============================] - 0s 3ms/step - loss: 12.2647\n",
      "Epoch 15/100\n",
      "4/4 [==============================] - 0s 3ms/step - loss: 11.8603\n",
      "Epoch 16/100\n",
      "4/4 [==============================] - 0s 3ms/step - loss: 11.1582\n",
      "Epoch 17/100\n",
      "4/4 [==============================] - 0s 3ms/step - loss: 11.0360\n",
      "Epoch 18/100\n",
      "4/4 [==============================] - 0s 3ms/step - loss: 10.4709\n",
      "Epoch 19/100\n",
      "4/4 [==============================] - 0s 2ms/step - loss: 10.5353\n",
      "Epoch 20/100\n",
      "4/4 [==============================] - 0s 3ms/step - loss: 9.8393\n",
      "Epoch 21/100\n",
      "4/4 [==============================] - 0s 3ms/step - loss: 9.4398\n",
      "Epoch 22/100\n",
      "4/4 [==============================] - 0s 2ms/step - loss: 9.1026\n",
      "Epoch 23/100\n",
      "4/4 [==============================] - 0s 3ms/step - loss: 8.7638\n",
      "Epoch 24/100\n",
      "4/4 [==============================] - 0s 3ms/step - loss: 8.5726\n",
      "Epoch 25/100\n",
      "4/4 [==============================] - 0s 3ms/step - loss: 8.1306\n",
      "Epoch 26/100\n",
      "4/4 [==============================] - 0s 2ms/step - loss: 8.1442\n",
      "Epoch 27/100\n",
      "4/4 [==============================] - 0s 2ms/step - loss: 7.4302\n",
      "Epoch 28/100\n",
      "4/4 [==============================] - 0s 3ms/step - loss: 7.2280\n",
      "Epoch 29/100\n",
      "4/4 [==============================] - 0s 3ms/step - loss: 6.9183\n",
      "Epoch 30/100\n",
      "4/4 [==============================] - 0s 2ms/step - loss: 6.9664\n",
      "Epoch 31/100\n",
      "4/4 [==============================] - 0s 3ms/step - loss: 6.4616\n",
      "Epoch 32/100\n",
      "4/4 [==============================] - 0s 3ms/step - loss: 6.2166\n",
      "Epoch 33/100\n",
      "4/4 [==============================] - 0s 2ms/step - loss: 5.9049\n",
      "Epoch 34/100\n",
      "4/4 [==============================] - 0s 2ms/step - loss: 5.6572\n",
      "Epoch 35/100\n",
      "4/4 [==============================] - 0s 3ms/step - loss: 5.4451\n",
      "Epoch 36/100\n",
      "4/4 [==============================] - 0s 3ms/step - loss: 5.2581\n",
      "Epoch 37/100\n",
      "4/4 [==============================] - 0s 3ms/step - loss: 5.1319\n",
      "Epoch 38/100\n",
      "4/4 [==============================] - 0s 3ms/step - loss: 4.8860\n",
      "Epoch 39/100\n",
      "4/4 [==============================] - 0s 12ms/step - loss: 4.7331\n",
      "Epoch 40/100\n",
      "4/4 [==============================] - 0s 3ms/step - loss: 4.4955\n",
      "Epoch 41/100\n",
      "4/4 [==============================] - 0s 2ms/step - loss: 4.2609\n",
      "Epoch 42/100\n",
      "4/4 [==============================] - 0s 3ms/step - loss: 4.1049\n",
      "Epoch 43/100\n",
      "4/4 [==============================] - 0s 3ms/step - loss: 3.9608\n",
      "Epoch 44/100\n",
      "4/4 [==============================] - 0s 2ms/step - loss: 3.7546\n",
      "Epoch 45/100\n",
      "4/4 [==============================] - 0s 2ms/step - loss: 3.5559\n",
      "Epoch 46/100\n",
      "4/4 [==============================] - 0s 2ms/step - loss: 3.4527\n",
      "Epoch 47/100\n",
      "4/4 [==============================] - 0s 3ms/step - loss: 3.4644\n",
      "Epoch 48/100\n",
      "4/4 [==============================] - 0s 2ms/step - loss: 3.2686\n",
      "Epoch 49/100\n",
      "4/4 [==============================] - 0s 3ms/step - loss: 3.0202\n",
      "Epoch 50/100\n",
      "4/4 [==============================] - 0s 3ms/step - loss: 2.9190\n",
      "Epoch 51/100\n",
      "4/4 [==============================] - 0s 3ms/step - loss: 2.8129\n",
      "Epoch 52/100\n",
      "4/4 [==============================] - 0s 2ms/step - loss: 2.6648\n",
      "Epoch 53/100\n",
      "4/4 [==============================] - 0s 3ms/step - loss: 2.6921\n",
      "Epoch 54/100\n",
      "4/4 [==============================] - 0s 3ms/step - loss: 2.4617\n",
      "Epoch 55/100\n",
      "4/4 [==============================] - 0s 3ms/step - loss: 2.5199\n",
      "Epoch 56/100\n",
      "4/4 [==============================] - 0s 2ms/step - loss: 2.3615\n",
      "Epoch 57/100\n",
      "4/4 [==============================] - 0s 3ms/step - loss: 2.2168\n",
      "Epoch 58/100\n",
      "4/4 [==============================] - 0s 3ms/step - loss: 2.1066\n",
      "Epoch 59/100\n",
      "4/4 [==============================] - 0s 3ms/step - loss: 2.0339\n",
      "Epoch 60/100\n",
      "4/4 [==============================] - 0s 3ms/step - loss: 1.9726\n",
      "Epoch 61/100\n",
      "4/4 [==============================] - 0s 3ms/step - loss: 2.0297\n",
      "Epoch 62/100\n",
      "4/4 [==============================] - 0s 3ms/step - loss: 1.8465\n",
      "Epoch 63/100\n",
      "4/4 [==============================] - 0s 2ms/step - loss: 1.7341\n",
      "Epoch 64/100\n",
      "4/4 [==============================] - 0s 2ms/step - loss: 1.7277\n",
      "Epoch 65/100\n",
      "4/4 [==============================] - 0s 2ms/step - loss: 1.6678\n",
      "Epoch 66/100\n",
      "4/4 [==============================] - 0s 3ms/step - loss: 1.6338\n",
      "Epoch 67/100\n",
      "4/4 [==============================] - 0s 2ms/step - loss: 1.5257\n",
      "Epoch 68/100\n",
      "4/4 [==============================] - 0s 3ms/step - loss: 1.5280\n",
      "Epoch 69/100\n",
      "4/4 [==============================] - 0s 3ms/step - loss: 1.4749\n",
      "Epoch 70/100\n",
      "4/4 [==============================] - 0s 2ms/step - loss: 1.3668\n",
      "Epoch 71/100\n",
      "4/4 [==============================] - 0s 2ms/step - loss: 1.2949\n",
      "Epoch 72/100\n",
      "4/4 [==============================] - 0s 3ms/step - loss: 1.2446\n",
      "Epoch 73/100\n",
      "4/4 [==============================] - 0s 2ms/step - loss: 1.2116\n",
      "Epoch 74/100\n",
      "4/4 [==============================] - 0s 3ms/step - loss: 1.1570\n",
      "Epoch 75/100\n",
      "4/4 [==============================] - 0s 2ms/step - loss: 1.1114\n",
      "Epoch 76/100\n",
      "4/4 [==============================] - 0s 2ms/step - loss: 1.0987\n",
      "Epoch 77/100\n",
      "4/4 [==============================] - 0s 3ms/step - loss: 1.0413\n",
      "Epoch 78/100\n",
      "4/4 [==============================] - 0s 3ms/step - loss: 1.0223\n",
      "Epoch 79/100\n",
      "4/4 [==============================] - 0s 3ms/step - loss: 0.9462\n",
      "Epoch 80/100\n",
      "4/4 [==============================] - 0s 3ms/step - loss: 0.9056\n",
      "Epoch 81/100\n",
      "4/4 [==============================] - 0s 3ms/step - loss: 0.8716\n",
      "Epoch 82/100\n",
      "4/4 [==============================] - 0s 3ms/step - loss: 0.8505\n",
      "Epoch 83/100\n",
      "4/4 [==============================] - 0s 3ms/step - loss: 0.7890\n",
      "Epoch 84/100\n",
      "4/4 [==============================] - 0s 3ms/step - loss: 0.7539\n",
      "Epoch 85/100\n",
      "4/4 [==============================] - 0s 3ms/step - loss: 0.7309\n",
      "Epoch 86/100\n",
      "4/4 [==============================] - 0s 3ms/step - loss: 0.6999\n",
      "Epoch 87/100\n",
      "4/4 [==============================] - 0s 3ms/step - loss: 0.6718\n",
      "Epoch 88/100\n",
      "4/4 [==============================] - 0s 3ms/step - loss: 0.6438\n",
      "Epoch 89/100\n",
      "4/4 [==============================] - 0s 3ms/step - loss: 0.6203\n",
      "Epoch 90/100\n",
      "4/4 [==============================] - 0s 3ms/step - loss: 0.5852\n",
      "Epoch 91/100\n",
      "4/4 [==============================] - 0s 3ms/step - loss: 0.5598\n",
      "Epoch 92/100\n",
      "4/4 [==============================] - 0s 3ms/step - loss: 0.5482\n",
      "Epoch 93/100\n",
      "4/4 [==============================] - 0s 3ms/step - loss: 0.5199\n",
      "Epoch 94/100\n",
      "4/4 [==============================] - 0s 3ms/step - loss: 0.5050\n",
      "Epoch 95/100\n",
      "4/4 [==============================] - 0s 3ms/step - loss: 0.4954\n",
      "Epoch 96/100\n",
      "4/4 [==============================] - 0s 3ms/step - loss: 0.4664\n",
      "Epoch 97/100\n",
      "4/4 [==============================] - 0s 3ms/step - loss: 0.4459\n",
      "Epoch 98/100\n",
      "4/4 [==============================] - 0s 3ms/step - loss: 0.4329\n",
      "Epoch 99/100\n",
      "4/4 [==============================] - 0s 3ms/step - loss: 0.4091\n",
      "Epoch 100/100\n",
      "4/4 [==============================] - 0s 3ms/step - loss: 0.4039\n"
     ]
    }
   ],
   "metadata": {}
  },
  {
   "cell_type": "code",
   "execution_count": 16,
   "source": [
    "%matplotlib inline\n",
    "import matplotlib.pyplot as plt\n",
    "\n",
    "plt.plot(x, y, 'go')"
   ],
   "outputs": [
    {
     "output_type": "execute_result",
     "data": {
      "text/plain": [
       "[<matplotlib.lines.Line2D at 0x2c11e451fa0>]"
      ]
     },
     "metadata": {},
     "execution_count": 16
    },
    {
     "output_type": "display_data",
     "data": {
      "image/png": "[encoded data removed]",
      "image/svg+xml": "<?xml version=\"1.0\" encoding=\"utf-8\" standalone=\"no\"?>\r\n<!DOCTYPE svg PUBLIC \"-//W3C//DTD SVG 1.1//EN\"\r\n  \"http://www.w3.org/Graphics/SVG/1.1/DTD/svg11.dtd\">\r\n<svg height=\"248.518125pt\" version=\"1.1\" viewBox=\"0 0 368.925 248.518125\" width=\"368.925pt\" xmlns=\"http://www.w3.org/2000/svg\" xmlns:xlink=\"http://www.w3.org/1999/xlink\">\r\n <metadata>\r\n  <rdf:RDF xmlns:cc=\"http://creativecommons.org/ns#\" xmlns:dc=\"http://purl.org/dc/elements/1.1/\" xmlns:rdf=\"http://www.w3.org/1999/02/22-rdf-syntax-ns#\">\r\n   <cc:Work>\r\n    <dc:type rdf:resource=\"http://purl.org/dc/dcmitype/StillImage\"/>\r\n    <dc:date>2021-09-14T10:04:52.176560</dc:date>\r\n    <dc:format>image/svg+xml</dc:format>\r\n    <dc:creator>\r\n     <cc:Agent>\r\n      <dc:title>Matplotlib v3.4.2, https://matplotlib.org/</dc:title>\r\n     </cc:Agent>\r\n    </dc:creator>\r\n   </cc:Work>\r\n  </rdf:RDF>\r\n </metadata>\r\n <defs>\r\n  <style type=\"text/css\">*{stroke-linecap:butt;stroke-linejoin:round;}</style>\r\n </defs>\r\n <g id=\"figure_1\">\r\n  <g id=\"patch_1\">\r\n   <path d=\"M -0 248.518125 \r\nL 368.925 248.518125 \r\nL 368.925 0 \r\nL -0 0 \r\nz\r\n\" style=\"fill:none;\"/>\r\n  </g>\r\n  <g id=\"axes_1\">\r\n   <g id=\"patch_2\">\r\n    <path d=\"M 26.925 224.64 \r\nL 361.725 224.64 \r\nL 361.725 7.2 \r\nL 26.925 7.2 \r\nz\r\n\" style=\"fill:#ffffff;\"/>\r\n   </g>\r\n   <g id=\"matplotlib.axis_1\">\r\n    <g id=\"xtick_1\">\r\n     <g id=\"line2d_1\">\r\n      <defs>\r\n       <path d=\"M 0 0 \r\nL 0 3.5 \r\n\" id=\"mfa32eaf61e\" style=\"stroke:#000000;stroke-width:0.8;\"/>\r\n      </defs>\r\n      <g>\r\n       <use style=\"stroke:#000000;stroke-width:0.8;\" x=\"42.143182\" xlink:href=\"#mfa32eaf61e\" y=\"224.64\"/>\r\n      </g>\r\n     </g>\r\n     <g id=\"text_1\">\r\n      <!-- 0 -->\r\n      <g transform=\"translate(38.961932 239.238437)scale(0.1 -0.1)\">\r\n       <defs>\r\n        <path d=\"M 2034 4250 \r\nQ 1547 4250 1301 3770 \r\nQ 1056 3291 1056 2328 \r\nQ 1056 1369 1301 889 \r\nQ 1547 409 2034 409 \r\nQ 2525 409 2770 889 \r\nQ 3016 1369 3016 2328 \r\nQ 3016 3291 2770 3770 \r\nQ 2525 4250 2034 4250 \r\nz\r\nM 2034 4750 \r\nQ 2819 4750 3233 4129 \r\nQ 3647 3509 3647 2328 \r\nQ 3647 1150 3233 529 \r\nQ 2819 -91 2034 -91 \r\nQ 1250 -91 836 529 \r\nQ 422 1150 422 2328 \r\nQ 422 3509 836 4129 \r\nQ 1250 4750 2034 4750 \r\nz\r\n\" id=\"DejaVuSans-30\" transform=\"scale(0.015625)\"/>\r\n       </defs>\r\n       <use xlink:href=\"#DejaVuSans-30\"/>\r\n      </g>\r\n     </g>\r\n    </g>\r\n    <g id=\"xtick_2\">\r\n     <g id=\"line2d_2\">\r\n      <g>\r\n       <use style=\"stroke:#000000;stroke-width:0.8;\" x=\"103.630785\" xlink:href=\"#mfa32eaf61e\" y=\"224.64\"/>\r\n      </g>\r\n     </g>\r\n     <g id=\"text_2\">\r\n      <!-- 2 -->\r\n      <g transform=\"translate(100.449535 239.238437)scale(0.1 -0.1)\">\r\n       <defs>\r\n        <path d=\"M 1228 531 \r\nL 3431 531 \r\nL 3431 0 \r\nL 469 0 \r\nL 469 531 \r\nQ 828 903 1448 1529 \r\nQ 2069 2156 2228 2338 \r\nQ 2531 2678 2651 2914 \r\nQ 2772 3150 2772 3378 \r\nQ 2772 3750 2511 3984 \r\nQ 2250 4219 1831 4219 \r\nQ 1534 4219 1204 4116 \r\nQ 875 4013 500 3803 \r\nL 500 4441 \r\nQ 881 4594 1212 4672 \r\nQ 1544 4750 1819 4750 \r\nQ 2544 4750 2975 4387 \r\nQ 3406 4025 3406 3419 \r\nQ 3406 3131 3298 2873 \r\nQ 3191 2616 2906 2266 \r\nQ 2828 2175 2409 1742 \r\nQ 1991 1309 1228 531 \r\nz\r\n\" id=\"DejaVuSans-32\" transform=\"scale(0.015625)\"/>\r\n       </defs>\r\n       <use xlink:href=\"#DejaVuSans-32\"/>\r\n      </g>\r\n     </g>\r\n    </g>\r\n    <g id=\"xtick_3\">\r\n     <g id=\"line2d_3\">\r\n      <g>\r\n       <use style=\"stroke:#000000;stroke-width:0.8;\" x=\"165.118388\" xlink:href=\"#mfa32eaf61e\" y=\"224.64\"/>\r\n      </g>\r\n     </g>\r\n     <g id=\"text_3\">\r\n      <!-- 4 -->\r\n      <g transform=\"translate(161.937138 239.238437)scale(0.1 -0.1)\">\r\n       <defs>\r\n        <path d=\"M 2419 4116 \r\nL 825 1625 \r\nL 2419 1625 \r\nL 2419 4116 \r\nz\r\nM 2253 4666 \r\nL 3047 4666 \r\nL 3047 1625 \r\nL 3713 1625 \r\nL 3713 1100 \r\nL 3047 1100 \r\nL 3047 0 \r\nL 2419 0 \r\nL 2419 1100 \r\nL 313 1100 \r\nL 313 1709 \r\nL 2253 4666 \r\nz\r\n\" id=\"DejaVuSans-34\" transform=\"scale(0.015625)\"/>\r\n       </defs>\r\n       <use xlink:href=\"#DejaVuSans-34\"/>\r\n      </g>\r\n     </g>\r\n    </g>\r\n    <g id=\"xtick_4\">\r\n     <g id=\"line2d_4\">\r\n      <g>\r\n       <use style=\"stroke:#000000;stroke-width:0.8;\" x=\"226.605992\" xlink:href=\"#mfa32eaf61e\" y=\"224.64\"/>\r\n      </g>\r\n     </g>\r\n     <g id=\"text_4\">\r\n      <!-- 6 -->\r\n      <g transform=\"translate(223.424742 239.238437)scale(0.1 -0.1)\">\r\n       <defs>\r\n        <path d=\"M 2113 2584 \r\nQ 1688 2584 1439 2293 \r\nQ 1191 2003 1191 1497 \r\nQ 1191 994 1439 701 \r\nQ 1688 409 2113 409 \r\nQ 2538 409 2786 701 \r\nQ 3034 994 3034 1497 \r\nQ 3034 2003 2786 2293 \r\nQ 2538 2584 2113 2584 \r\nz\r\nM 3366 4563 \r\nL 3366 3988 \r\nQ 3128 4100 2886 4159 \r\nQ 2644 4219 2406 4219 \r\nQ 1781 4219 1451 3797 \r\nQ 1122 3375 1075 2522 \r\nQ 1259 2794 1537 2939 \r\nQ 1816 3084 2150 3084 \r\nQ 2853 3084 3261 2657 \r\nQ 3669 2231 3669 1497 \r\nQ 3669 778 3244 343 \r\nQ 2819 -91 2113 -91 \r\nQ 1303 -91 875 529 \r\nQ 447 1150 447 2328 \r\nQ 447 3434 972 4092 \r\nQ 1497 4750 2381 4750 \r\nQ 2619 4750 2861 4703 \r\nQ 3103 4656 3366 4563 \r\nz\r\n\" id=\"DejaVuSans-36\" transform=\"scale(0.015625)\"/>\r\n       </defs>\r\n       <use xlink:href=\"#DejaVuSans-36\"/>\r\n      </g>\r\n     </g>\r\n    </g>\r\n    <g id=\"xtick_5\">\r\n     <g id=\"line2d_5\">\r\n      <g>\r\n       <use style=\"stroke:#000000;stroke-width:0.8;\" x=\"288.093595\" xlink:href=\"#mfa32eaf61e\" y=\"224.64\"/>\r\n      </g>\r\n     </g>\r\n     <g id=\"text_5\">\r\n      <!-- 8 -->\r\n      <g transform=\"translate(284.912345 239.238437)scale(0.1 -0.1)\">\r\n       <defs>\r\n        <path d=\"M 2034 2216 \r\nQ 1584 2216 1326 1975 \r\nQ 1069 1734 1069 1313 \r\nQ 1069 891 1326 650 \r\nQ 1584 409 2034 409 \r\nQ 2484 409 2743 651 \r\nQ 3003 894 3003 1313 \r\nQ 3003 1734 2745 1975 \r\nQ 2488 2216 2034 2216 \r\nz\r\nM 1403 2484 \r\nQ 997 2584 770 2862 \r\nQ 544 3141 544 3541 \r\nQ 544 4100 942 4425 \r\nQ 1341 4750 2034 4750 \r\nQ 2731 4750 3128 4425 \r\nQ 3525 4100 3525 3541 \r\nQ 3525 3141 3298 2862 \r\nQ 3072 2584 2669 2484 \r\nQ 3125 2378 3379 2068 \r\nQ 3634 1759 3634 1313 \r\nQ 3634 634 3220 271 \r\nQ 2806 -91 2034 -91 \r\nQ 1263 -91 848 271 \r\nQ 434 634 434 1313 \r\nQ 434 1759 690 2068 \r\nQ 947 2378 1403 2484 \r\nz\r\nM 1172 3481 \r\nQ 1172 3119 1398 2916 \r\nQ 1625 2713 2034 2713 \r\nQ 2441 2713 2670 2916 \r\nQ 2900 3119 2900 3481 \r\nQ 2900 3844 2670 4047 \r\nQ 2441 4250 2034 4250 \r\nQ 1625 4250 1398 4047 \r\nQ 1172 3844 1172 3481 \r\nz\r\n\" id=\"DejaVuSans-38\" transform=\"scale(0.015625)\"/>\r\n       </defs>\r\n       <use xlink:href=\"#DejaVuSans-38\"/>\r\n      </g>\r\n     </g>\r\n    </g>\r\n    <g id=\"xtick_6\">\r\n     <g id=\"line2d_6\">\r\n      <g>\r\n       <use style=\"stroke:#000000;stroke-width:0.8;\" x=\"349.581198\" xlink:href=\"#mfa32eaf61e\" y=\"224.64\"/>\r\n      </g>\r\n     </g>\r\n     <g id=\"text_6\">\r\n      <!-- 10 -->\r\n      <g transform=\"translate(343.218698 239.238437)scale(0.1 -0.1)\">\r\n       <defs>\r\n        <path d=\"M 794 531 \r\nL 1825 531 \r\nL 1825 4091 \r\nL 703 3866 \r\nL 703 4441 \r\nL 1819 4666 \r\nL 2450 4666 \r\nL 2450 531 \r\nL 3481 531 \r\nL 3481 0 \r\nL 794 0 \r\nL 794 531 \r\nz\r\n\" id=\"DejaVuSans-31\" transform=\"scale(0.015625)\"/>\r\n       </defs>\r\n       <use xlink:href=\"#DejaVuSans-31\"/>\r\n       <use x=\"63.623047\" xlink:href=\"#DejaVuSans-30\"/>\r\n      </g>\r\n     </g>\r\n    </g>\r\n   </g>\r\n   <g id=\"matplotlib.axis_2\">\r\n    <g id=\"ytick_1\">\r\n     <g id=\"line2d_7\">\r\n      <defs>\r\n       <path d=\"M 0 0 \r\nL -3.5 0 \r\n\" id=\"m18a41aba15\" style=\"stroke:#000000;stroke-width:0.8;\"/>\r\n      </defs>\r\n      <g>\r\n       <use style=\"stroke:#000000;stroke-width:0.8;\" x=\"26.925\" xlink:href=\"#m18a41aba15\" y=\"214.756364\"/>\r\n      </g>\r\n     </g>\r\n     <g id=\"text_7\">\r\n      <!-- 10 -->\r\n      <g transform=\"translate(7.2 218.555582)scale(0.1 -0.1)\">\r\n       <use xlink:href=\"#DejaVuSans-31\"/>\r\n       <use x=\"63.623047\" xlink:href=\"#DejaVuSans-30\"/>\r\n      </g>\r\n     </g>\r\n    </g>\r\n    <g id=\"ytick_2\">\r\n     <g id=\"line2d_8\">\r\n      <g>\r\n       <use style=\"stroke:#000000;stroke-width:0.8;\" x=\"26.925\" xlink:href=\"#m18a41aba15\" y=\"174.822479\"/>\r\n      </g>\r\n     </g>\r\n     <g id=\"text_8\">\r\n      <!-- 20 -->\r\n      <g transform=\"translate(7.2 178.621698)scale(0.1 -0.1)\">\r\n       <use xlink:href=\"#DejaVuSans-32\"/>\r\n       <use x=\"63.623047\" xlink:href=\"#DejaVuSans-30\"/>\r\n      </g>\r\n     </g>\r\n    </g>\r\n    <g id=\"ytick_3\">\r\n     <g id=\"line2d_9\">\r\n      <g>\r\n       <use style=\"stroke:#000000;stroke-width:0.8;\" x=\"26.925\" xlink:href=\"#m18a41aba15\" y=\"134.888595\"/>\r\n      </g>\r\n     </g>\r\n     <g id=\"text_9\">\r\n      <!-- 30 -->\r\n      <g transform=\"translate(7.2 138.687814)scale(0.1 -0.1)\">\r\n       <defs>\r\n        <path d=\"M 2597 2516 \r\nQ 3050 2419 3304 2112 \r\nQ 3559 1806 3559 1356 \r\nQ 3559 666 3084 287 \r\nQ 2609 -91 1734 -91 \r\nQ 1441 -91 1130 -33 \r\nQ 819 25 488 141 \r\nL 488 750 \r\nQ 750 597 1062 519 \r\nQ 1375 441 1716 441 \r\nQ 2309 441 2620 675 \r\nQ 2931 909 2931 1356 \r\nQ 2931 1769 2642 2001 \r\nQ 2353 2234 1838 2234 \r\nL 1294 2234 \r\nL 1294 2753 \r\nL 1863 2753 \r\nQ 2328 2753 2575 2939 \r\nQ 2822 3125 2822 3475 \r\nQ 2822 3834 2567 4026 \r\nQ 2313 4219 1838 4219 \r\nQ 1578 4219 1281 4162 \r\nQ 984 4106 628 3988 \r\nL 628 4550 \r\nQ 988 4650 1302 4700 \r\nQ 1616 4750 1894 4750 \r\nQ 2613 4750 3031 4423 \r\nQ 3450 4097 3450 3541 \r\nQ 3450 3153 3228 2886 \r\nQ 3006 2619 2597 2516 \r\nz\r\n\" id=\"DejaVuSans-33\" transform=\"scale(0.015625)\"/>\r\n       </defs>\r\n       <use xlink:href=\"#DejaVuSans-33\"/>\r\n       <use x=\"63.623047\" xlink:href=\"#DejaVuSans-30\"/>\r\n      </g>\r\n     </g>\r\n    </g>\r\n    <g id=\"ytick_4\">\r\n     <g id=\"line2d_10\">\r\n      <g>\r\n       <use style=\"stroke:#000000;stroke-width:0.8;\" x=\"26.925\" xlink:href=\"#m18a41aba15\" y=\"94.954711\"/>\r\n      </g>\r\n     </g>\r\n     <g id=\"text_10\">\r\n      <!-- 40 -->\r\n      <g transform=\"translate(7.2 98.753929)scale(0.1 -0.1)\">\r\n       <use xlink:href=\"#DejaVuSans-34\"/>\r\n       <use x=\"63.623047\" xlink:href=\"#DejaVuSans-30\"/>\r\n      </g>\r\n     </g>\r\n    </g>\r\n    <g id=\"ytick_5\">\r\n     <g id=\"line2d_11\">\r\n      <g>\r\n       <use style=\"stroke:#000000;stroke-width:0.8;\" x=\"26.925\" xlink:href=\"#m18a41aba15\" y=\"55.020826\"/>\r\n      </g>\r\n     </g>\r\n     <g id=\"text_11\">\r\n      <!-- 50 -->\r\n      <g transform=\"translate(7.2 58.820045)scale(0.1 -0.1)\">\r\n       <defs>\r\n        <path d=\"M 691 4666 \r\nL 3169 4666 \r\nL 3169 4134 \r\nL 1269 4134 \r\nL 1269 2991 \r\nQ 1406 3038 1543 3061 \r\nQ 1681 3084 1819 3084 \r\nQ 2600 3084 3056 2656 \r\nQ 3513 2228 3513 1497 \r\nQ 3513 744 3044 326 \r\nQ 2575 -91 1722 -91 \r\nQ 1428 -91 1123 -41 \r\nQ 819 9 494 109 \r\nL 494 744 \r\nQ 775 591 1075 516 \r\nQ 1375 441 1709 441 \r\nQ 2250 441 2565 725 \r\nQ 2881 1009 2881 1497 \r\nQ 2881 1984 2565 2268 \r\nQ 2250 2553 1709 2553 \r\nQ 1456 2553 1204 2497 \r\nQ 953 2441 691 2322 \r\nL 691 4666 \r\nz\r\n\" id=\"DejaVuSans-35\" transform=\"scale(0.015625)\"/>\r\n       </defs>\r\n       <use xlink:href=\"#DejaVuSans-35\"/>\r\n       <use x=\"63.623047\" xlink:href=\"#DejaVuSans-30\"/>\r\n      </g>\r\n     </g>\r\n    </g>\r\n    <g id=\"ytick_6\">\r\n     <g id=\"line2d_12\">\r\n      <g>\r\n       <use style=\"stroke:#000000;stroke-width:0.8;\" x=\"26.925\" xlink:href=\"#m18a41aba15\" y=\"15.086942\"/>\r\n      </g>\r\n     </g>\r\n     <g id=\"text_12\">\r\n      <!-- 60 -->\r\n      <g transform=\"translate(7.2 18.886161)scale(0.1 -0.1)\">\r\n       <use xlink:href=\"#DejaVuSans-36\"/>\r\n       <use x=\"63.623047\" xlink:href=\"#DejaVuSans-30\"/>\r\n      </g>\r\n     </g>\r\n    </g>\r\n   </g>\r\n   <g id=\"line2d_13\">\r\n    <defs>\r\n     <path d=\"M 0 3 \r\nC 0.795609 3 1.55874 2.683901 2.12132 2.12132 \r\nC 2.683901 1.55874 3 0.795609 3 0 \r\nC 3 -0.795609 2.683901 -1.55874 2.12132 -2.12132 \r\nC 1.55874 -2.683901 0.795609 -3 0 -3 \r\nC -0.795609 -3 -1.55874 -2.683901 -2.12132 -2.12132 \r\nC -2.683901 -1.55874 -3 -0.795609 -3 0 \r\nC -3 0.795609 -2.683901 1.55874 -2.12132 2.12132 \r\nC -1.55874 2.683901 -0.795609 3 0 3 \r\nz\r\n\" id=\"m772b2b5c8b\" style=\"stroke:#008000;\"/>\r\n    </defs>\r\n    <g clip-path=\"url(#pba9fc1fcda)\">\r\n     <use style=\"fill:#008000;stroke:#008000;\" x=\"42.143182\" xlink:href=\"#m772b2b5c8b\" y=\"214.756364\"/>\r\n     <use style=\"fill:#008000;stroke:#008000;\" x=\"45.217562\" xlink:href=\"#m772b2b5c8b\" y=\"212.759669\"/>\r\n     <use style=\"fill:#008000;stroke:#008000;\" x=\"48.291942\" xlink:href=\"#m772b2b5c8b\" y=\"210.762975\"/>\r\n     <use style=\"fill:#008000;stroke:#008000;\" x=\"51.366322\" xlink:href=\"#m772b2b5c8b\" y=\"208.766281\"/>\r\n     <use style=\"fill:#008000;stroke:#008000;\" x=\"54.440702\" xlink:href=\"#m772b2b5c8b\" y=\"206.769587\"/>\r\n     <use style=\"fill:#008000;stroke:#008000;\" x=\"57.515083\" xlink:href=\"#m772b2b5c8b\" y=\"204.772893\"/>\r\n     <use style=\"fill:#008000;stroke:#008000;\" x=\"60.589463\" xlink:href=\"#m772b2b5c8b\" y=\"202.776198\"/>\r\n     <use style=\"fill:#008000;stroke:#008000;\" x=\"63.663843\" xlink:href=\"#m772b2b5c8b\" y=\"200.779504\"/>\r\n     <use style=\"fill:#008000;stroke:#008000;\" x=\"66.738223\" xlink:href=\"#m772b2b5c8b\" y=\"198.78281\"/>\r\n     <use style=\"fill:#008000;stroke:#008000;\" x=\"69.812603\" xlink:href=\"#m772b2b5c8b\" y=\"196.786116\"/>\r\n     <use style=\"fill:#008000;stroke:#008000;\" x=\"72.886983\" xlink:href=\"#m772b2b5c8b\" y=\"194.789421\"/>\r\n     <use style=\"fill:#008000;stroke:#008000;\" x=\"75.961364\" xlink:href=\"#m772b2b5c8b\" y=\"192.792727\"/>\r\n     <use style=\"fill:#008000;stroke:#008000;\" x=\"79.035744\" xlink:href=\"#m772b2b5c8b\" y=\"190.796033\"/>\r\n     <use style=\"fill:#008000;stroke:#008000;\" x=\"82.110124\" xlink:href=\"#m772b2b5c8b\" y=\"188.799339\"/>\r\n     <use style=\"fill:#008000;stroke:#008000;\" x=\"85.184504\" xlink:href=\"#m772b2b5c8b\" y=\"186.802645\"/>\r\n     <use style=\"fill:#008000;stroke:#008000;\" x=\"88.258884\" xlink:href=\"#m772b2b5c8b\" y=\"184.80595\"/>\r\n     <use style=\"fill:#008000;stroke:#008000;\" x=\"91.333264\" xlink:href=\"#m772b2b5c8b\" y=\"182.809256\"/>\r\n     <use style=\"fill:#008000;stroke:#008000;\" x=\"94.407645\" xlink:href=\"#m772b2b5c8b\" y=\"180.812562\"/>\r\n     <use style=\"fill:#008000;stroke:#008000;\" x=\"97.482025\" xlink:href=\"#m772b2b5c8b\" y=\"178.815868\"/>\r\n     <use style=\"fill:#008000;stroke:#008000;\" x=\"100.556405\" xlink:href=\"#m772b2b5c8b\" y=\"176.819174\"/>\r\n     <use style=\"fill:#008000;stroke:#008000;\" x=\"103.630785\" xlink:href=\"#m772b2b5c8b\" y=\"174.822479\"/>\r\n     <use style=\"fill:#008000;stroke:#008000;\" x=\"106.705165\" xlink:href=\"#m772b2b5c8b\" y=\"172.825785\"/>\r\n     <use style=\"fill:#008000;stroke:#008000;\" x=\"109.779545\" xlink:href=\"#m772b2b5c8b\" y=\"170.829091\"/>\r\n     <use style=\"fill:#008000;stroke:#008000;\" x=\"112.853926\" xlink:href=\"#m772b2b5c8b\" y=\"168.832397\"/>\r\n     <use style=\"fill:#008000;stroke:#008000;\" x=\"115.928306\" xlink:href=\"#m772b2b5c8b\" y=\"166.835702\"/>\r\n     <use style=\"fill:#008000;stroke:#008000;\" x=\"119.002686\" xlink:href=\"#m772b2b5c8b\" y=\"164.839008\"/>\r\n     <use style=\"fill:#008000;stroke:#008000;\" x=\"122.077066\" xlink:href=\"#m772b2b5c8b\" y=\"162.842314\"/>\r\n     <use style=\"fill:#008000;stroke:#008000;\" x=\"125.151446\" xlink:href=\"#m772b2b5c8b\" y=\"160.84562\"/>\r\n     <use style=\"fill:#008000;stroke:#008000;\" x=\"128.225826\" xlink:href=\"#m772b2b5c8b\" y=\"158.848926\"/>\r\n     <use style=\"fill:#008000;stroke:#008000;\" x=\"131.300207\" xlink:href=\"#m772b2b5c8b\" y=\"156.852231\"/>\r\n     <use style=\"fill:#008000;stroke:#008000;\" x=\"134.374587\" xlink:href=\"#m772b2b5c8b\" y=\"154.855537\"/>\r\n     <use style=\"fill:#008000;stroke:#008000;\" x=\"137.448967\" xlink:href=\"#m772b2b5c8b\" y=\"152.858843\"/>\r\n     <use style=\"fill:#008000;stroke:#008000;\" x=\"140.523347\" xlink:href=\"#m772b2b5c8b\" y=\"150.862149\"/>\r\n     <use style=\"fill:#008000;stroke:#008000;\" x=\"143.597727\" xlink:href=\"#m772b2b5c8b\" y=\"148.865455\"/>\r\n     <use style=\"fill:#008000;stroke:#008000;\" x=\"146.672107\" xlink:href=\"#m772b2b5c8b\" y=\"146.86876\"/>\r\n     <use style=\"fill:#008000;stroke:#008000;\" x=\"149.746488\" xlink:href=\"#m772b2b5c8b\" y=\"144.872066\"/>\r\n     <use style=\"fill:#008000;stroke:#008000;\" x=\"152.820868\" xlink:href=\"#m772b2b5c8b\" y=\"142.875372\"/>\r\n     <use style=\"fill:#008000;stroke:#008000;\" x=\"155.895248\" xlink:href=\"#m772b2b5c8b\" y=\"140.878678\"/>\r\n     <use style=\"fill:#008000;stroke:#008000;\" x=\"158.969628\" xlink:href=\"#m772b2b5c8b\" y=\"138.881983\"/>\r\n     <use style=\"fill:#008000;stroke:#008000;\" x=\"162.044008\" xlink:href=\"#m772b2b5c8b\" y=\"136.885289\"/>\r\n     <use style=\"fill:#008000;stroke:#008000;\" x=\"165.118388\" xlink:href=\"#m772b2b5c8b\" y=\"134.888595\"/>\r\n     <use style=\"fill:#008000;stroke:#008000;\" x=\"168.192769\" xlink:href=\"#m772b2b5c8b\" y=\"132.891901\"/>\r\n     <use style=\"fill:#008000;stroke:#008000;\" x=\"171.267149\" xlink:href=\"#m772b2b5c8b\" y=\"130.895207\"/>\r\n     <use style=\"fill:#008000;stroke:#008000;\" x=\"174.341529\" xlink:href=\"#m772b2b5c8b\" y=\"128.898512\"/>\r\n     <use style=\"fill:#008000;stroke:#008000;\" x=\"177.415909\" xlink:href=\"#m772b2b5c8b\" y=\"126.901818\"/>\r\n     <use style=\"fill:#008000;stroke:#008000;\" x=\"180.490289\" xlink:href=\"#m772b2b5c8b\" y=\"124.905124\"/>\r\n     <use style=\"fill:#008000;stroke:#008000;\" x=\"183.564669\" xlink:href=\"#m772b2b5c8b\" y=\"122.90843\"/>\r\n     <use style=\"fill:#008000;stroke:#008000;\" x=\"186.63905\" xlink:href=\"#m772b2b5c8b\" y=\"120.911736\"/>\r\n     <use style=\"fill:#008000;stroke:#008000;\" x=\"189.71343\" xlink:href=\"#m772b2b5c8b\" y=\"118.915041\"/>\r\n     <use style=\"fill:#008000;stroke:#008000;\" x=\"192.78781\" xlink:href=\"#m772b2b5c8b\" y=\"116.918347\"/>\r\n     <use style=\"fill:#008000;stroke:#008000;\" x=\"195.86219\" xlink:href=\"#m772b2b5c8b\" y=\"114.921653\"/>\r\n     <use style=\"fill:#008000;stroke:#008000;\" x=\"198.93657\" xlink:href=\"#m772b2b5c8b\" y=\"112.924959\"/>\r\n     <use style=\"fill:#008000;stroke:#008000;\" x=\"202.01095\" xlink:href=\"#m772b2b5c8b\" y=\"110.928264\"/>\r\n     <use style=\"fill:#008000;stroke:#008000;\" x=\"205.085331\" xlink:href=\"#m772b2b5c8b\" y=\"108.93157\"/>\r\n     <use style=\"fill:#008000;stroke:#008000;\" x=\"208.159711\" xlink:href=\"#m772b2b5c8b\" y=\"106.934876\"/>\r\n     <use style=\"fill:#008000;stroke:#008000;\" x=\"211.234091\" xlink:href=\"#m772b2b5c8b\" y=\"104.938182\"/>\r\n     <use style=\"fill:#008000;stroke:#008000;\" x=\"214.308471\" xlink:href=\"#m772b2b5c8b\" y=\"102.941488\"/>\r\n     <use style=\"fill:#008000;stroke:#008000;\" x=\"217.382851\" xlink:href=\"#m772b2b5c8b\" y=\"100.944793\"/>\r\n     <use style=\"fill:#008000;stroke:#008000;\" x=\"220.457231\" xlink:href=\"#m772b2b5c8b\" y=\"98.948099\"/>\r\n     <use style=\"fill:#008000;stroke:#008000;\" x=\"223.531612\" xlink:href=\"#m772b2b5c8b\" y=\"96.951405\"/>\r\n     <use style=\"fill:#008000;stroke:#008000;\" x=\"226.605992\" xlink:href=\"#m772b2b5c8b\" y=\"94.954711\"/>\r\n     <use style=\"fill:#008000;stroke:#008000;\" x=\"229.680372\" xlink:href=\"#m772b2b5c8b\" y=\"92.958017\"/>\r\n     <use style=\"fill:#008000;stroke:#008000;\" x=\"232.754752\" xlink:href=\"#m772b2b5c8b\" y=\"90.961322\"/>\r\n     <use style=\"fill:#008000;stroke:#008000;\" x=\"235.829132\" xlink:href=\"#m772b2b5c8b\" y=\"88.964628\"/>\r\n     <use style=\"fill:#008000;stroke:#008000;\" x=\"238.903512\" xlink:href=\"#m772b2b5c8b\" y=\"86.967934\"/>\r\n     <use style=\"fill:#008000;stroke:#008000;\" x=\"241.977893\" xlink:href=\"#m772b2b5c8b\" y=\"84.97124\"/>\r\n     <use style=\"fill:#008000;stroke:#008000;\" x=\"245.052273\" xlink:href=\"#m772b2b5c8b\" y=\"82.974545\"/>\r\n     <use style=\"fill:#008000;stroke:#008000;\" x=\"248.126653\" xlink:href=\"#m772b2b5c8b\" y=\"80.977851\"/>\r\n     <use style=\"fill:#008000;stroke:#008000;\" x=\"251.201033\" xlink:href=\"#m772b2b5c8b\" y=\"78.981157\"/>\r\n     <use style=\"fill:#008000;stroke:#008000;\" x=\"254.275413\" xlink:href=\"#m772b2b5c8b\" y=\"76.984463\"/>\r\n     <use style=\"fill:#008000;stroke:#008000;\" x=\"257.349793\" xlink:href=\"#m772b2b5c8b\" y=\"74.987769\"/>\r\n     <use style=\"fill:#008000;stroke:#008000;\" x=\"260.424174\" xlink:href=\"#m772b2b5c8b\" y=\"72.991074\"/>\r\n     <use style=\"fill:#008000;stroke:#008000;\" x=\"263.498554\" xlink:href=\"#m772b2b5c8b\" y=\"70.99438\"/>\r\n     <use style=\"fill:#008000;stroke:#008000;\" x=\"266.572934\" xlink:href=\"#m772b2b5c8b\" y=\"68.997686\"/>\r\n     <use style=\"fill:#008000;stroke:#008000;\" x=\"269.647314\" xlink:href=\"#m772b2b5c8b\" y=\"67.000992\"/>\r\n     <use style=\"fill:#008000;stroke:#008000;\" x=\"272.721694\" xlink:href=\"#m772b2b5c8b\" y=\"65.004298\"/>\r\n     <use style=\"fill:#008000;stroke:#008000;\" x=\"275.796074\" xlink:href=\"#m772b2b5c8b\" y=\"63.007603\"/>\r\n     <use style=\"fill:#008000;stroke:#008000;\" x=\"278.870455\" xlink:href=\"#m772b2b5c8b\" y=\"61.010909\"/>\r\n     <use style=\"fill:#008000;stroke:#008000;\" x=\"281.944835\" xlink:href=\"#m772b2b5c8b\" y=\"59.014215\"/>\r\n     <use style=\"fill:#008000;stroke:#008000;\" x=\"285.019215\" xlink:href=\"#m772b2b5c8b\" y=\"57.017521\"/>\r\n     <use style=\"fill:#008000;stroke:#008000;\" x=\"288.093595\" xlink:href=\"#m772b2b5c8b\" y=\"55.020826\"/>\r\n     <use style=\"fill:#008000;stroke:#008000;\" x=\"291.167975\" xlink:href=\"#m772b2b5c8b\" y=\"53.024132\"/>\r\n     <use style=\"fill:#008000;stroke:#008000;\" x=\"294.242355\" xlink:href=\"#m772b2b5c8b\" y=\"51.027438\"/>\r\n     <use style=\"fill:#008000;stroke:#008000;\" x=\"297.316736\" xlink:href=\"#m772b2b5c8b\" y=\"49.030744\"/>\r\n     <use style=\"fill:#008000;stroke:#008000;\" x=\"300.391116\" xlink:href=\"#m772b2b5c8b\" y=\"47.03405\"/>\r\n     <use style=\"fill:#008000;stroke:#008000;\" x=\"303.465496\" xlink:href=\"#m772b2b5c8b\" y=\"45.037355\"/>\r\n     <use style=\"fill:#008000;stroke:#008000;\" x=\"306.539876\" xlink:href=\"#m772b2b5c8b\" y=\"43.040661\"/>\r\n     <use style=\"fill:#008000;stroke:#008000;\" x=\"309.614256\" xlink:href=\"#m772b2b5c8b\" y=\"41.043967\"/>\r\n     <use style=\"fill:#008000;stroke:#008000;\" x=\"312.688636\" xlink:href=\"#m772b2b5c8b\" y=\"39.047273\"/>\r\n     <use style=\"fill:#008000;stroke:#008000;\" x=\"315.763017\" xlink:href=\"#m772b2b5c8b\" y=\"37.050579\"/>\r\n     <use style=\"fill:#008000;stroke:#008000;\" x=\"318.837397\" xlink:href=\"#m772b2b5c8b\" y=\"35.053884\"/>\r\n     <use style=\"fill:#008000;stroke:#008000;\" x=\"321.911777\" xlink:href=\"#m772b2b5c8b\" y=\"33.05719\"/>\r\n     <use style=\"fill:#008000;stroke:#008000;\" x=\"324.986157\" xlink:href=\"#m772b2b5c8b\" y=\"31.060496\"/>\r\n     <use style=\"fill:#008000;stroke:#008000;\" x=\"328.060537\" xlink:href=\"#m772b2b5c8b\" y=\"29.063802\"/>\r\n     <use style=\"fill:#008000;stroke:#008000;\" x=\"331.134917\" xlink:href=\"#m772b2b5c8b\" y=\"27.067107\"/>\r\n     <use style=\"fill:#008000;stroke:#008000;\" x=\"334.209298\" xlink:href=\"#m772b2b5c8b\" y=\"25.070413\"/>\r\n     <use style=\"fill:#008000;stroke:#008000;\" x=\"337.283678\" xlink:href=\"#m772b2b5c8b\" y=\"23.073719\"/>\r\n     <use style=\"fill:#008000;stroke:#008000;\" x=\"340.358058\" xlink:href=\"#m772b2b5c8b\" y=\"21.077025\"/>\r\n     <use style=\"fill:#008000;stroke:#008000;\" x=\"343.432438\" xlink:href=\"#m772b2b5c8b\" y=\"19.080331\"/>\r\n     <use style=\"fill:#008000;stroke:#008000;\" x=\"346.506818\" xlink:href=\"#m772b2b5c8b\" y=\"17.083636\"/>\r\n    </g>\r\n   </g>\r\n   <g id=\"patch_3\">\r\n    <path d=\"M 26.925 224.64 \r\nL 26.925 7.2 \r\n\" style=\"fill:none;stroke:#000000;stroke-linecap:square;stroke-linejoin:miter;stroke-width:0.8;\"/>\r\n   </g>\r\n   <g id=\"patch_4\">\r\n    <path d=\"M 361.725 224.64 \r\nL 361.725 7.2 \r\n\" style=\"fill:none;stroke:#000000;stroke-linecap:square;stroke-linejoin:miter;stroke-width:0.8;\"/>\r\n   </g>\r\n   <g id=\"patch_5\">\r\n    <path d=\"M 26.925 224.64 \r\nL 361.725 224.64 \r\n\" style=\"fill:none;stroke:#000000;stroke-linecap:square;stroke-linejoin:miter;stroke-width:0.8;\"/>\r\n   </g>\r\n   <g id=\"patch_6\">\r\n    <path d=\"M 26.925 7.2 \r\nL 361.725 7.2 \r\n\" style=\"fill:none;stroke:#000000;stroke-linecap:square;stroke-linejoin:miter;stroke-width:0.8;\"/>\r\n   </g>\r\n  </g>\r\n </g>\r\n <defs>\r\n  <clipPath id=\"pba9fc1fcda\">\r\n   <rect height=\"217.44\" width=\"334.8\" x=\"26.925\" y=\"7.2\"/>\r\n  </clipPath>\r\n </defs>\r\n</svg>\r\n",
      "text/plain": [
       "<Figure size 432x288 with 1 Axes>"
      ]
     },
     "metadata": {
      "needs_background": "light"
     }
    }
   ],
   "metadata": {}
  },
  {
   "cell_type": "markdown",
   "source": [
    "# Plotting the results\n",
    "\n",
    "You can access the results of the training by using the `history` attribute of the model, it's a dictionary with all the training metrics, returned by the `fit` function after the model is trained, you can check the [docs](https://www.tensorflow.org/api_docs/python/tf/keras/Model#fit) for more.\n"
   ],
   "metadata": {}
  },
  {
   "cell_type": "code",
   "execution_count": 21,
   "source": [
    "plt.plot(history.history['loss'], 'r-')"
   ],
   "outputs": [
    {
     "output_type": "execute_result",
     "data": {
      "text/plain": [
       "[<matplotlib.lines.Line2D at 0x2c12a5418b0>]"
      ]
     },
     "metadata": {},
     "execution_count": 21
    },
    {
     "output_type": "display_data",
     "data": {
      "image/png": "[encoded data removed]",
      "image/svg+xml": "<?xml version=\"1.0\" encoding=\"utf-8\" standalone=\"no\"?>\r\n<!DOCTYPE svg PUBLIC \"-//W3C//DTD SVG 1.1//EN\"\r\n  \"http://www.w3.org/Graphics/SVG/1.1/DTD/svg11.dtd\">\r\n<svg height=\"251.400379pt\" version=\"1.1\" viewBox=\"0 0 375.2875 251.400379\" width=\"375.2875pt\" xmlns=\"http://www.w3.org/2000/svg\" xmlns:xlink=\"http://www.w3.org/1999/xlink\">\r\n <metadata>\r\n  <rdf:RDF xmlns:cc=\"http://creativecommons.org/ns#\" xmlns:dc=\"http://purl.org/dc/elements/1.1/\" xmlns:rdf=\"http://www.w3.org/1999/02/22-rdf-syntax-ns#\">\r\n   <cc:Work>\r\n    <dc:type rdf:resource=\"http://purl.org/dc/dcmitype/StillImage\"/>\r\n    <dc:date>2021-09-14T10:06:34.984567</dc:date>\r\n    <dc:format>image/svg+xml</dc:format>\r\n    <dc:creator>\r\n     <cc:Agent>\r\n      <dc:title>Matplotlib v3.4.2, https://matplotlib.org/</dc:title>\r\n     </cc:Agent>\r\n    </dc:creator>\r\n   </cc:Work>\r\n  </rdf:RDF>\r\n </metadata>\r\n <defs>\r\n  <style type=\"text/css\">*{stroke-linecap:butt;stroke-linejoin:round;}</style>\r\n </defs>\r\n <g id=\"figure_1\">\r\n  <g id=\"patch_1\">\r\n   <path d=\"M 0 251.400379 \r\nL 375.2875 251.400379 \r\nL 375.2875 0 \r\nL 0 0 \r\nz\r\n\" style=\"fill:none;\"/>\r\n  </g>\r\n  <g id=\"axes_1\">\r\n   <g id=\"patch_2\">\r\n    <path d=\"M 33.2875 227.522254 \r\nL 368.0875 227.522254 \r\nL 368.0875 10.082254 \r\nL 33.2875 10.082254 \r\nz\r\n\" style=\"fill:#ffffff;\"/>\r\n   </g>\r\n   <g id=\"matplotlib.axis_1\">\r\n    <g id=\"xtick_1\">\r\n     <g id=\"line2d_1\">\r\n      <defs>\r\n       <path d=\"M 0 0 \r\nL 0 3.5 \r\n\" id=\"m0732be3dc8\" style=\"stroke:#000000;stroke-width:0.8;\"/>\r\n      </defs>\r\n      <g>\r\n       <use style=\"stroke:#000000;stroke-width:0.8;\" x=\"48.505682\" xlink:href=\"#m0732be3dc8\" y=\"227.522254\"/>\r\n      </g>\r\n     </g>\r\n     <g id=\"text_1\">\r\n      <!-- 0 -->\r\n      <g transform=\"translate(45.324432 242.120691)scale(0.1 -0.1)\">\r\n       <defs>\r\n        <path d=\"M 2034 4250 \r\nQ 1547 4250 1301 3770 \r\nQ 1056 3291 1056 2328 \r\nQ 1056 1369 1301 889 \r\nQ 1547 409 2034 409 \r\nQ 2525 409 2770 889 \r\nQ 3016 1369 3016 2328 \r\nQ 3016 3291 2770 3770 \r\nQ 2525 4250 2034 4250 \r\nz\r\nM 2034 4750 \r\nQ 2819 4750 3233 4129 \r\nQ 3647 3509 3647 2328 \r\nQ 3647 1150 3233 529 \r\nQ 2819 -91 2034 -91 \r\nQ 1250 -91 836 529 \r\nQ 422 1150 422 2328 \r\nQ 422 3509 836 4129 \r\nQ 1250 4750 2034 4750 \r\nz\r\n\" id=\"DejaVuSans-30\" transform=\"scale(0.015625)\"/>\r\n       </defs>\r\n       <use xlink:href=\"#DejaVuSans-30\"/>\r\n      </g>\r\n     </g>\r\n    </g>\r\n    <g id=\"xtick_2\">\r\n     <g id=\"line2d_2\">\r\n      <g>\r\n       <use style=\"stroke:#000000;stroke-width:0.8;\" x=\"109.993285\" xlink:href=\"#m0732be3dc8\" y=\"227.522254\"/>\r\n      </g>\r\n     </g>\r\n     <g id=\"text_2\">\r\n      <!-- 20 -->\r\n      <g transform=\"translate(103.630785 242.120691)scale(0.1 -0.1)\">\r\n       <defs>\r\n        <path d=\"M 1228 531 \r\nL 3431 531 \r\nL 3431 0 \r\nL 469 0 \r\nL 469 531 \r\nQ 828 903 1448 1529 \r\nQ 2069 2156 2228 2338 \r\nQ 2531 2678 2651 2914 \r\nQ 2772 3150 2772 3378 \r\nQ 2772 3750 2511 3984 \r\nQ 2250 4219 1831 4219 \r\nQ 1534 4219 1204 4116 \r\nQ 875 4013 500 3803 \r\nL 500 4441 \r\nQ 881 4594 1212 4672 \r\nQ 1544 4750 1819 4750 \r\nQ 2544 4750 2975 4387 \r\nQ 3406 4025 3406 3419 \r\nQ 3406 3131 3298 2873 \r\nQ 3191 2616 2906 2266 \r\nQ 2828 2175 2409 1742 \r\nQ 1991 1309 1228 531 \r\nz\r\n\" id=\"DejaVuSans-32\" transform=\"scale(0.015625)\"/>\r\n       </defs>\r\n       <use xlink:href=\"#DejaVuSans-32\"/>\r\n       <use x=\"63.623047\" xlink:href=\"#DejaVuSans-30\"/>\r\n      </g>\r\n     </g>\r\n    </g>\r\n    <g id=\"xtick_3\">\r\n     <g id=\"line2d_3\">\r\n      <g>\r\n       <use style=\"stroke:#000000;stroke-width:0.8;\" x=\"171.480888\" xlink:href=\"#m0732be3dc8\" y=\"227.522254\"/>\r\n      </g>\r\n     </g>\r\n     <g id=\"text_3\">\r\n      <!-- 40 -->\r\n      <g transform=\"translate(165.118388 242.120691)scale(0.1 -0.1)\">\r\n       <defs>\r\n        <path d=\"M 2419 4116 \r\nL 825 1625 \r\nL 2419 1625 \r\nL 2419 4116 \r\nz\r\nM 2253 4666 \r\nL 3047 4666 \r\nL 3047 1625 \r\nL 3713 1625 \r\nL 3713 1100 \r\nL 3047 1100 \r\nL 3047 0 \r\nL 2419 0 \r\nL 2419 1100 \r\nL 313 1100 \r\nL 313 1709 \r\nL 2253 4666 \r\nz\r\n\" id=\"DejaVuSans-34\" transform=\"scale(0.015625)\"/>\r\n       </defs>\r\n       <use xlink:href=\"#DejaVuSans-34\"/>\r\n       <use x=\"63.623047\" xlink:href=\"#DejaVuSans-30\"/>\r\n      </g>\r\n     </g>\r\n    </g>\r\n    <g id=\"xtick_4\">\r\n     <g id=\"line2d_4\">\r\n      <g>\r\n       <use style=\"stroke:#000000;stroke-width:0.8;\" x=\"232.968492\" xlink:href=\"#m0732be3dc8\" y=\"227.522254\"/>\r\n      </g>\r\n     </g>\r\n     <g id=\"text_4\">\r\n      <!-- 60 -->\r\n      <g transform=\"translate(226.605992 242.120691)scale(0.1 -0.1)\">\r\n       <defs>\r\n        <path d=\"M 2113 2584 \r\nQ 1688 2584 1439 2293 \r\nQ 1191 2003 1191 1497 \r\nQ 1191 994 1439 701 \r\nQ 1688 409 2113 409 \r\nQ 2538 409 2786 701 \r\nQ 3034 994 3034 1497 \r\nQ 3034 2003 2786 2293 \r\nQ 2538 2584 2113 2584 \r\nz\r\nM 3366 4563 \r\nL 3366 3988 \r\nQ 3128 4100 2886 4159 \r\nQ 2644 4219 2406 4219 \r\nQ 1781 4219 1451 3797 \r\nQ 1122 3375 1075 2522 \r\nQ 1259 2794 1537 2939 \r\nQ 1816 3084 2150 3084 \r\nQ 2853 3084 3261 2657 \r\nQ 3669 2231 3669 1497 \r\nQ 3669 778 3244 343 \r\nQ 2819 -91 2113 -91 \r\nQ 1303 -91 875 529 \r\nQ 447 1150 447 2328 \r\nQ 447 3434 972 4092 \r\nQ 1497 4750 2381 4750 \r\nQ 2619 4750 2861 4703 \r\nQ 3103 4656 3366 4563 \r\nz\r\n\" id=\"DejaVuSans-36\" transform=\"scale(0.015625)\"/>\r\n       </defs>\r\n       <use xlink:href=\"#DejaVuSans-36\"/>\r\n       <use x=\"63.623047\" xlink:href=\"#DejaVuSans-30\"/>\r\n      </g>\r\n     </g>\r\n    </g>\r\n    <g id=\"xtick_5\">\r\n     <g id=\"line2d_5\">\r\n      <g>\r\n       <use style=\"stroke:#000000;stroke-width:0.8;\" x=\"294.456095\" xlink:href=\"#m0732be3dc8\" y=\"227.522254\"/>\r\n      </g>\r\n     </g>\r\n     <g id=\"text_5\">\r\n      <!-- 80 -->\r\n      <g transform=\"translate(288.093595 242.120691)scale(0.1 -0.1)\">\r\n       <defs>\r\n        <path d=\"M 2034 2216 \r\nQ 1584 2216 1326 1975 \r\nQ 1069 1734 1069 1313 \r\nQ 1069 891 1326 650 \r\nQ 1584 409 2034 409 \r\nQ 2484 409 2743 651 \r\nQ 3003 894 3003 1313 \r\nQ 3003 1734 2745 1975 \r\nQ 2488 2216 2034 2216 \r\nz\r\nM 1403 2484 \r\nQ 997 2584 770 2862 \r\nQ 544 3141 544 3541 \r\nQ 544 4100 942 4425 \r\nQ 1341 4750 2034 4750 \r\nQ 2731 4750 3128 4425 \r\nQ 3525 4100 3525 3541 \r\nQ 3525 3141 3298 2862 \r\nQ 3072 2584 2669 2484 \r\nQ 3125 2378 3379 2068 \r\nQ 3634 1759 3634 1313 \r\nQ 3634 634 3220 271 \r\nQ 2806 -91 2034 -91 \r\nQ 1263 -91 848 271 \r\nQ 434 634 434 1313 \r\nQ 434 1759 690 2068 \r\nQ 947 2378 1403 2484 \r\nz\r\nM 1172 3481 \r\nQ 1172 3119 1398 2916 \r\nQ 1625 2713 2034 2713 \r\nQ 2441 2713 2670 2916 \r\nQ 2900 3119 2900 3481 \r\nQ 2900 3844 2670 4047 \r\nQ 2441 4250 2034 4250 \r\nQ 1625 4250 1398 4047 \r\nQ 1172 3844 1172 3481 \r\nz\r\n\" id=\"DejaVuSans-38\" transform=\"scale(0.015625)\"/>\r\n       </defs>\r\n       <use xlink:href=\"#DejaVuSans-38\"/>\r\n       <use x=\"63.623047\" xlink:href=\"#DejaVuSans-30\"/>\r\n      </g>\r\n     </g>\r\n    </g>\r\n    <g id=\"xtick_6\">\r\n     <g id=\"line2d_6\">\r\n      <g>\r\n       <use style=\"stroke:#000000;stroke-width:0.8;\" x=\"355.943698\" xlink:href=\"#m0732be3dc8\" y=\"227.522254\"/>\r\n      </g>\r\n     </g>\r\n     <g id=\"text_6\">\r\n      <!-- 100 -->\r\n      <g transform=\"translate(346.399948 242.120691)scale(0.1 -0.1)\">\r\n       <defs>\r\n        <path d=\"M 794 531 \r\nL 1825 531 \r\nL 1825 4091 \r\nL 703 3866 \r\nL 703 4441 \r\nL 1819 4666 \r\nL 2450 4666 \r\nL 2450 531 \r\nL 3481 531 \r\nL 3481 0 \r\nL 794 0 \r\nL 794 531 \r\nz\r\n\" id=\"DejaVuSans-31\" transform=\"scale(0.015625)\"/>\r\n       </defs>\r\n       <use xlink:href=\"#DejaVuSans-31\"/>\r\n       <use x=\"63.623047\" xlink:href=\"#DejaVuSans-30\"/>\r\n       <use x=\"127.246094\" xlink:href=\"#DejaVuSans-30\"/>\r\n      </g>\r\n     </g>\r\n    </g>\r\n   </g>\r\n   <g id=\"matplotlib.axis_2\">\r\n    <g id=\"ytick_1\">\r\n     <g id=\"line2d_7\">\r\n      <defs>\r\n       <path d=\"M 0 0 \r\nL -3.5 0 \r\n\" id=\"m94404fc160\" style=\"stroke:#000000;stroke-width:0.8;\"/>\r\n      </defs>\r\n      <g>\r\n       <use style=\"stroke:#000000;stroke-width:0.8;\" x=\"33.2875\" xlink:href=\"#m94404fc160\" y=\"217.805695\"/>\r\n      </g>\r\n     </g>\r\n     <g id=\"text_7\">\r\n      <!-- 0 -->\r\n      <g transform=\"translate(19.925 221.604913)scale(0.1 -0.1)\">\r\n       <use xlink:href=\"#DejaVuSans-30\"/>\r\n      </g>\r\n     </g>\r\n    </g>\r\n    <g id=\"ytick_2\">\r\n     <g id=\"line2d_8\">\r\n      <g>\r\n       <use style=\"stroke:#000000;stroke-width:0.8;\" x=\"33.2875\" xlink:href=\"#m94404fc160\" y=\"176.444399\"/>\r\n      </g>\r\n     </g>\r\n     <g id=\"text_8\">\r\n      <!-- 100 -->\r\n      <g transform=\"translate(7.2 180.243618)scale(0.1 -0.1)\">\r\n       <use xlink:href=\"#DejaVuSans-31\"/>\r\n       <use x=\"63.623047\" xlink:href=\"#DejaVuSans-30\"/>\r\n       <use x=\"127.246094\" xlink:href=\"#DejaVuSans-30\"/>\r\n      </g>\r\n     </g>\r\n    </g>\r\n    <g id=\"ytick_3\">\r\n     <g id=\"line2d_9\">\r\n      <g>\r\n       <use style=\"stroke:#000000;stroke-width:0.8;\" x=\"33.2875\" xlink:href=\"#m94404fc160\" y=\"135.083104\"/>\r\n      </g>\r\n     </g>\r\n     <g id=\"text_9\">\r\n      <!-- 200 -->\r\n      <g transform=\"translate(7.2 138.882323)scale(0.1 -0.1)\">\r\n       <use xlink:href=\"#DejaVuSans-32\"/>\r\n       <use x=\"63.623047\" xlink:href=\"#DejaVuSans-30\"/>\r\n       <use x=\"127.246094\" xlink:href=\"#DejaVuSans-30\"/>\r\n      </g>\r\n     </g>\r\n    </g>\r\n    <g id=\"ytick_4\">\r\n     <g id=\"line2d_10\">\r\n      <g>\r\n       <use style=\"stroke:#000000;stroke-width:0.8;\" x=\"33.2875\" xlink:href=\"#m94404fc160\" y=\"93.721809\"/>\r\n      </g>\r\n     </g>\r\n     <g id=\"text_10\">\r\n      <!-- 300 -->\r\n      <g transform=\"translate(7.2 97.521028)scale(0.1 -0.1)\">\r\n       <defs>\r\n        <path d=\"M 2597 2516 \r\nQ 3050 2419 3304 2112 \r\nQ 3559 1806 3559 1356 \r\nQ 3559 666 3084 287 \r\nQ 2609 -91 1734 -91 \r\nQ 1441 -91 1130 -33 \r\nQ 819 25 488 141 \r\nL 488 750 \r\nQ 750 597 1062 519 \r\nQ 1375 441 1716 441 \r\nQ 2309 441 2620 675 \r\nQ 2931 909 2931 1356 \r\nQ 2931 1769 2642 2001 \r\nQ 2353 2234 1838 2234 \r\nL 1294 2234 \r\nL 1294 2753 \r\nL 1863 2753 \r\nQ 2328 2753 2575 2939 \r\nQ 2822 3125 2822 3475 \r\nQ 2822 3834 2567 4026 \r\nQ 2313 4219 1838 4219 \r\nQ 1578 4219 1281 4162 \r\nQ 984 4106 628 3988 \r\nL 628 4550 \r\nQ 988 4650 1302 4700 \r\nQ 1616 4750 1894 4750 \r\nQ 2613 4750 3031 4423 \r\nQ 3450 4097 3450 3541 \r\nQ 3450 3153 3228 2886 \r\nQ 3006 2619 2597 2516 \r\nz\r\n\" id=\"DejaVuSans-33\" transform=\"scale(0.015625)\"/>\r\n       </defs>\r\n       <use xlink:href=\"#DejaVuSans-33\"/>\r\n       <use x=\"63.623047\" xlink:href=\"#DejaVuSans-30\"/>\r\n       <use x=\"127.246094\" xlink:href=\"#DejaVuSans-30\"/>\r\n      </g>\r\n     </g>\r\n    </g>\r\n    <g id=\"ytick_5\">\r\n     <g id=\"line2d_11\">\r\n      <g>\r\n       <use style=\"stroke:#000000;stroke-width:0.8;\" x=\"33.2875\" xlink:href=\"#m94404fc160\" y=\"52.360514\"/>\r\n      </g>\r\n     </g>\r\n     <g id=\"text_11\">\r\n      <!-- 400 -->\r\n      <g transform=\"translate(7.2 56.159733)scale(0.1 -0.1)\">\r\n       <use xlink:href=\"#DejaVuSans-34\"/>\r\n       <use x=\"63.623047\" xlink:href=\"#DejaVuSans-30\"/>\r\n       <use x=\"127.246094\" xlink:href=\"#DejaVuSans-30\"/>\r\n      </g>\r\n     </g>\r\n    </g>\r\n    <g id=\"ytick_6\">\r\n     <g id=\"line2d_12\">\r\n      <g>\r\n       <use style=\"stroke:#000000;stroke-width:0.8;\" x=\"33.2875\" xlink:href=\"#m94404fc160\" y=\"10.999219\"/>\r\n      </g>\r\n     </g>\r\n     <g id=\"text_12\">\r\n      <!-- 500 -->\r\n      <g transform=\"translate(7.2 14.798437)scale(0.1 -0.1)\">\r\n       <defs>\r\n        <path d=\"M 691 4666 \r\nL 3169 4666 \r\nL 3169 4134 \r\nL 1269 4134 \r\nL 1269 2991 \r\nQ 1406 3038 1543 3061 \r\nQ 1681 3084 1819 3084 \r\nQ 2600 3084 3056 2656 \r\nQ 3513 2228 3513 1497 \r\nQ 3513 744 3044 326 \r\nQ 2575 -91 1722 -91 \r\nQ 1428 -91 1123 -41 \r\nQ 819 9 494 109 \r\nL 494 744 \r\nQ 775 591 1075 516 \r\nQ 1375 441 1709 441 \r\nQ 2250 441 2565 725 \r\nQ 2881 1009 2881 1497 \r\nQ 2881 1984 2565 2268 \r\nQ 2250 2553 1709 2553 \r\nQ 1456 2553 1204 2497 \r\nQ 953 2441 691 2322 \r\nL 691 4666 \r\nz\r\n\" id=\"DejaVuSans-35\" transform=\"scale(0.015625)\"/>\r\n       </defs>\r\n       <use xlink:href=\"#DejaVuSans-35\"/>\r\n       <use x=\"63.623047\" xlink:href=\"#DejaVuSans-30\"/>\r\n       <use x=\"127.246094\" xlink:href=\"#DejaVuSans-30\"/>\r\n      </g>\r\n     </g>\r\n    </g>\r\n   </g>\r\n   <g id=\"line2d_13\">\r\n    <path clip-path=\"url(#p7faac5eb82)\" d=\"M 48.505682 19.96589 \r\nL 51.580062 209.439412 \r\nL 54.654442 209.813713 \r\nL 57.728822 209.951141 \r\nL 60.803202 210.234856 \r\nL 63.877583 210.563447 \r\nL 66.951963 210.644317 \r\nL 70.026343 211.242385 \r\nL 73.100723 211.427285 \r\nL 76.175103 211.783932 \r\nL 79.249483 211.965593 \r\nL 82.323864 212.138524 \r\nL 85.398244 212.532667 \r\nL 88.472624 212.732871 \r\nL 91.547004 212.900136 \r\nL 94.621384 213.1905 \r\nL 97.695764 213.241059 \r\nL 100.770145 213.474778 \r\nL 103.844525 213.448172 \r\nL 106.918905 213.736038 \r\nL 109.993285 213.901263 \r\nL 113.067665 214.040752 \r\nL 116.142045 214.180857 \r\nL 119.216426 214.259958 \r\nL 122.290806 214.442762 \r\nL 125.365186 214.43713 \r\nL 128.439566 214.732484 \r\nL 131.513946 214.816107 \r\nL 134.588326 214.944217 \r\nL 137.662707 214.924314 \r\nL 140.737087 215.13309 \r\nL 143.811467 215.23441 \r\nL 146.885847 215.363351 \r\nL 149.960227 215.465808 \r\nL 153.034607 215.55353 \r\nL 156.108988 215.630861 \r\nL 159.183368 215.683056 \r\nL 162.257748 215.784767 \r\nL 165.332128 215.848003 \r\nL 168.406508 215.946318 \r\nL 171.480888 216.043317 \r\nL 174.555269 216.107873 \r\nL 177.629649 216.167472 \r\nL 180.704029 216.252724 \r\nL 183.778409 216.334923 \r\nL 186.852789 216.377593 \r\nL 189.927169 216.372779 \r\nL 193.00155 216.453755 \r\nL 196.07593 216.556497 \r\nL 199.15031 216.59835 \r\nL 202.22469 216.642252 \r\nL 205.29907 216.703518 \r\nL 208.37345 216.692189 \r\nL 211.447831 216.787494 \r\nL 214.522211 216.763421 \r\nL 217.596591 216.828933 \r\nL 220.670971 216.888787 \r\nL 223.745351 216.934372 \r\nL 226.819731 216.964467 \r\nL 229.894112 216.989814 \r\nL 232.968492 216.966194 \r\nL 236.042872 217.041966 \r\nL 239.117252 217.088449 \r\nL 242.191632 217.091105 \r\nL 245.266012 217.115889 \r\nL 248.340393 217.129922 \r\nL 251.414773 217.174633 \r\nL 254.489153 217.173683 \r\nL 257.563533 217.195647 \r\nL 260.637913 217.240376 \r\nL 263.712293 217.27009 \r\nL 266.786674 217.290919 \r\nL 269.861054 217.304553 \r\nL 272.935434 217.327162 \r\nL 276.009814 217.346014 \r\nL 279.084194 217.351264 \r\nL 282.158574 217.375007 \r\nL 285.232955 217.38285 \r\nL 288.307335 217.414321 \r\nL 291.381715 217.431117 \r\nL 294.456095 217.445196 \r\nL 297.530475 217.4539 \r\nL 300.604855 217.47935 \r\nL 303.679236 217.493864 \r\nL 306.753616 217.503382 \r\nL 309.827996 217.516224 \r\nL 312.902376 217.527818 \r\nL 315.976756 217.539401 \r\nL 319.051136 217.549147 \r\nL 322.125517 217.563642 \r\nL 325.199897 217.574144 \r\nL 328.274277 217.578948 \r\nL 331.348657 217.590639 \r\nL 334.423037 217.596805 \r\nL 337.497417 217.600789 \r\nL 340.571798 217.612765 \r\nL 343.646178 217.621257 \r\nL 346.720558 217.626652 \r\nL 349.794938 217.636492 \r\nL 352.869318 217.638617 \r\n\" style=\"fill:none;stroke:#ff0000;stroke-linecap:square;stroke-width:1.5;\"/>\r\n   </g>\r\n   <g id=\"patch_3\">\r\n    <path d=\"M 33.2875 227.522254 \r\nL 33.2875 10.082254 \r\n\" style=\"fill:none;stroke:#000000;stroke-linecap:square;stroke-linejoin:miter;stroke-width:0.8;\"/>\r\n   </g>\r\n   <g id=\"patch_4\">\r\n    <path d=\"M 368.0875 227.522254 \r\nL 368.0875 10.082254 \r\n\" style=\"fill:none;stroke:#000000;stroke-linecap:square;stroke-linejoin:miter;stroke-width:0.8;\"/>\r\n   </g>\r\n   <g id=\"patch_5\">\r\n    <path d=\"M 33.2875 227.522254 \r\nL 368.0875 227.522254 \r\n\" style=\"fill:none;stroke:#000000;stroke-linecap:square;stroke-linejoin:miter;stroke-width:0.8;\"/>\r\n   </g>\r\n   <g id=\"patch_6\">\r\n    <path d=\"M 33.2875 10.082254 \r\nL 368.0875 10.082254 \r\n\" style=\"fill:none;stroke:#000000;stroke-linecap:square;stroke-linejoin:miter;stroke-width:0.8;\"/>\r\n   </g>\r\n  </g>\r\n </g>\r\n <defs>\r\n  <clipPath id=\"p7faac5eb82\">\r\n   <rect height=\"217.44\" width=\"334.8\" x=\"33.2875\" y=\"10.082254\"/>\r\n  </clipPath>\r\n </defs>\r\n</svg>\r\n",
      "text/plain": [
       "<Figure size 432x288 with 1 Axes>"
      ]
     },
     "metadata": {
      "needs_background": "light"
     }
    }
   ],
   "metadata": {}
  }
 ],
 "metadata": {
  "kernelspec": {
   "name": "python3",
   "display_name": "Python 3.9.5 64-bit ('TF-2.5': conda)"
  },
  "language_info": {
   "codemirror_mode": {
    "name": "ipython",
    "version": 3
   },
   "file_extension": ".py",
   "mimetype": "text/x-python",
   "name": "python",
   "nbconvert_exporter": "python",
   "pygments_lexer": "ipython3",
   "version": "3.9.5"
  },
  "interpreter": {
   "hash": "70d077a54fc0094e614fa5b0f03887f72b81a6c521e79d0a3e89b1c317604ecf"
  }
 },
 "nbformat": 4,
 "nbformat_minor": 1
}