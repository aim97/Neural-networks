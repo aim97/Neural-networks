{
 "cells": [
  {
   "cell_type": "markdown",
   "metadata": {
    "collapsed": true,
    "pycharm": {
     "name": "#%% md\n"
    }
   },
   "source": [
    "# Tensorflow\n",
    "\n",
    "## content\n",
    "    1. Workflow most basic structure\n",
    "    2. The computation Graph\n",
    "        - Basics\n",
    "        - How to take input\n",
    "    3. Settings\n",
    "        - Optimizer\n",
    "    4. Starting a Session\n",
    "    5. Training\n",
    "    6. Extracting the model"
   ]
  },
  {
   "cell_type": "markdown",
   "metadata": {
    "pycharm": {
     "name": "#%% md\n"
    }
   },
   "source": [
    "## Workflow\n",
    "![Tensorflow work flow](../images/Tensorflow-work-flow.png)\n",
    "The *philosophy* behind tensorflow is based on the **computation graph**, you first have to specify how the model will work through the computation graph, how will the flow of data and operations should go through the model, this part is just **DECLARATIVE**, you don't do any compuations here, you simply specify how the computations will be done.  \n",
    "\n",
    "Then you need to specify some settings, as we know *Neural-nets* work with many *hiper parameters* like learning rate, as well as some operations like the *loss function* and what what *optimizer* to use, all of this affect the results and is done through the *settings* stage.  \n",
    "\n",
    "Now we have a clear idea about how the compuation will occur in the model and how the model should be trained we have to start a ***Session***, whatever work you want tensorflow to do, it has to be done within the scope of a session.  \n",
    "\n",
    "Remember that we said the computation graph is a declarative process, so in order to work with what we declared we have to actually initialize it, and allocate memory for it first *(we will see how to do that in a minute)*.  \n",
    "Training the model, this what we actually use tensorflow for, given the compuation graph you provided tensorflow randomly initializes the weights, runs the graph as you specified it and takes care of the ackward path for you.  \n",
    "\n",
    "This is the overall view of how **Tensorflow** works, in the up coming sections we will see how each of those stages are done then later we will include further possible changes to this diagram.  "
   ]
  },
  {
   "cell_type": "code",
   "execution_count": 3,
   "metadata": {},
   "outputs": [
    {
     "ename": "ModuleNotFoundError",
     "evalue": "No module named 'matplotlib'",
     "output_type": "error",
     "traceback": [
      "\u001b[0;31m---------------------------------------------------------------------------\u001b[0m",
      "\u001b[0;31mModuleNotFoundError\u001b[0m                       Traceback (most recent call last)",
      "\u001b[0;32m<ipython-input-3-474784adfc80>\u001b[0m in \u001b[0;36m<module>\u001b[0;34m\u001b[0m\n\u001b[1;32m      1\u001b[0m \u001b[0;32mimport\u001b[0m \u001b[0mnumpy\u001b[0m \u001b[0;32mas\u001b[0m \u001b[0mnp\u001b[0m\u001b[0;34m\u001b[0m\u001b[0;34m\u001b[0m\u001b[0m\n\u001b[1;32m      2\u001b[0m \u001b[0;32mimport\u001b[0m \u001b[0mtensorflow\u001b[0m \u001b[0;32mas\u001b[0m \u001b[0mtf\u001b[0m\u001b[0;34m\u001b[0m\u001b[0;34m\u001b[0m\u001b[0m\n\u001b[0;32m----> 3\u001b[0;31m \u001b[0;32mimport\u001b[0m \u001b[0mmatplotlib\u001b[0m\u001b[0;34m.\u001b[0m\u001b[0mpyplot\u001b[0m \u001b[0;32mas\u001b[0m \u001b[0mplt\u001b[0m\u001b[0;34m\u001b[0m\u001b[0;34m\u001b[0m\u001b[0m\n\u001b[0m",
      "\u001b[0;31mModuleNotFoundError\u001b[0m: No module named 'matplotlib'"
     ]
    }
   ],
   "source": [
    "import numpy as np\n",
    "import tensorflow as tf\n",
    "import matplotlib.pyplot as plt"
   ]
  },
  {
   "cell_type": "code",
   "execution_count": null,
   "metadata": {},
   "outputs": [],
   "source": [
    "# define the computation graph\n"
   ]
  }
 ],
 "metadata": {
  "kernelspec": {
   "display_name": "Python 3",
   "language": "python",
   "name": "python3"
  },
  "language_info": {
   "codemirror_mode": {
    "name": "ipython",
    "version": 3
   },
   "file_extension": ".py",
   "mimetype": "text/x-python",
   "name": "python",
   "nbconvert_exporter": "python",
   "pygments_lexer": "ipython3",
   "version": "3.6.9"
  }
 },
 "nbformat": 4,
 "nbformat_minor": 1
}
