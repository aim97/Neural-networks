{
  "nbformat": 4,
  "nbformat_minor": 2,
  "metadata": {
    "colab": {
      "name": "enenrgy+efficiency.ipynb",
      "provenance": [],
      "collapsed_sections": [],
      "authorship_tag": "ABX9TyMUpFUBusWHNNPOpzczEvAw",
      "include_colab_link": true
    },
    "kernelspec": {
      "name": "python3",
      "display_name": "Python 3.9.5 64-bit"
    },
    "language_info": {
      "name": "python",
      "version": "3.9.5",
      "mimetype": "text/x-python",
      "codemirror_mode": {
        "name": "ipython",
        "version": 3
      },
      "pygments_lexer": "ipython3",
      "nbconvert_exporter": "python",
      "file_extension": ".py"
    },
    "interpreter": {
      "hash": "70d077a54fc0094e614fa5b0f03887f72b81a6c521e79d0a3e89b1c317604ecf"
    }
  },
  "cells": [
    {
      "cell_type": "markdown",
      "source": [
        "<a href=\"https://colab.research.google.com/github/aim97/Neural-networks/blob/master/Tensorflow/FunctionalAPI-enenrgy%2Befficiency.ipynb\" target=\"_parent\"><img src=\"https://colab.research.google.com/assets/colab-badge.svg\" alt=\"Open In Colab\"/></a>"
      ],
      "metadata": {
        "id": "view-in-github",
        "colab_type": "text"
      }
    },
    {
      "cell_type": "markdown",
      "source": [
        "# Tensorflow Functional API\n",
        "\n",
        "Tensorflow adds more flexibility of defining the model using its functional API.\n",
        "\n",
        "If your model is simply staking layers on top of one another, you only need to use `Sequential` Model, which will do the job for you. However if your code is more complicated taking different paths, and then rejoining, or having multiple different outputs, the usual sequential model wouldn't cut it and you would need a more flexible way to define your model.  \n",
        "\n",
        "That's where the functional API comes for the rescue, it allows you to connect layers manually rather than having Sequential connect them for you, which allows you to connect your neural network in all sorts of ways.  \n",
        "\n",
        "In order to build such model, Tensorflow requires you to provide 2 Things:\n",
        "\n",
        "1. The model input(s).\n",
        "2. The model output(s).\n",
        "\n",
        "and provide them to `Model` class constructor, then from this point forward everything is like how it's done with Sequential.\n"
      ],
      "metadata": {
        "id": "7d0eUfvZ2AbS"
      }
    },
    {
      "cell_type": "code",
      "execution_count": 1,
      "source": [
        "import tensorflow as tf\n",
        "from tensorflow.keras.layers import Dense, Input\n",
        "import numpy as np"
      ],
      "outputs": [],
      "metadata": {
        "id": "YKNALtjTIkua"
      }
    },
    {
      "cell_type": "markdown",
      "source": [
        "What you need to understand is mainly how to connect layer with the functional API.  \n",
        "```python\n",
        "layer2_output = LayerConstructor( ...layer_parameters ) (layer1_output)\n",
        "```\n",
        "\n",
        "You form a connection better two layers in this way."
      ],
      "metadata": {
        "id": "laupsth7BC8S"
      }
    },
    {
      "cell_type": "code",
      "execution_count": 3,
      "source": [
        "xs = Input((8,), name='model_input')\n",
        "x = Dense(128, activation='relu', name='first')(xs)\n",
        "x = Dense(128, activation='relu', name='second')(x)\n",
        "\n",
        "y1 = Dense(1, name='y1_output')(x);\n",
        "y2_path = Dense(64, activation='relu', name='another_path')(x)\n",
        "\n",
        "y2 = Dense(1, name='y2_output')(y2_path)"
      ],
      "outputs": [],
      "metadata": {
        "id": "SXlonDHfIrMG"
      }
    },
    {
      "cell_type": "code",
      "execution_count": 4,
      "source": [
        "model = tf.keras.Model(inputs=[xs], outputs=[y1, y2])  # when you have multiple output specifiy them all\n",
        "# notice the names of the layers displayed in the summary\n",
        "print(model.summary())"
      ],
      "outputs": [
        {
          "output_type": "stream",
          "name": "stdout",
          "text": [
            "Model: \"model\"\n",
            "__________________________________________________________________________________________________\n",
            "Layer (type)                    Output Shape         Param #     Connected to                     \n",
            "==================================================================================================\n",
            "model_input (InputLayer)        [(None, 8)]          0                                            \n",
            "__________________________________________________________________________________________________\n",
            "first (Dense)                   (None, 128)          1152        model_input[0][0]                \n",
            "__________________________________________________________________________________________________\n",
            "second (Dense)                  (None, 128)          16512       first[0][0]                      \n",
            "__________________________________________________________________________________________________\n",
            "another_path (Dense)            (None, 64)           8256        second[0][0]                     \n",
            "__________________________________________________________________________________________________\n",
            "y1_output (Dense)               (None, 1)            129         second[0][0]                     \n",
            "__________________________________________________________________________________________________\n",
            "y2_output (Dense)               (None, 1)            65          another_path[0][0]               \n",
            "==================================================================================================\n",
            "Total params: 26,114\n",
            "Trainable params: 26,114\n",
            "Non-trainable params: 0\n",
            "__________________________________________________________________________________________________\n",
            "None\n"
          ]
        }
      ],
      "metadata": {
        "id": "Vq3g9bZeRhD8",
        "colab": {
          "base_uri": "https://localhost:8080/"
        },
        "outputId": "9df3a235-949c-41fc-b35e-af21ce47d399"
      }
    },
    {
      "cell_type": "markdown",
      "source": [
        "Note: with Tensorflow functional API, when you have multiple outputs, giving the output layer a name is important, actually it's a good practice to give each layer a unique (it has to be unique) name to identify it.  \n",
        "\n",
        "1. It makes it easier to understand the model summary and model graph.\n",
        "2. Multiple parts of tensorflow API use those names, for instance, in our case we want to define different loss and metrics of performance for each output we have, we provide a dictionary with the output layers **names** as keys.\n",
        "\n",
        "```python\n",
        "model.compile(\n",
        "    optimizer=optimizer,\n",
        "    loss={\n",
        "        'y1_output': 'mse', \n",
        "        'y2_output': 'mse'\n",
        "    },\n",
        "    metrics={\n",
        "        'y1_output': tf.keras.metrics.RootMeanSquaredError(),\n",
        "        'y2_output': tf.keras.metrics.RootMeanSquaredError()\n",
        "    }\n",
        ")\n",
        "```\n",
        "\n",
        "You can also use a list to do the job which will depend on the order the outputs appear in the outputs list provided to the model constructor, but using a dictionary provides higher readability."
      ],
      "metadata": {
        "id": "E8DwWHH2Fid7"
      }
    },
    {
      "cell_type": "code",
      "execution_count": 5,
      "source": [
        "# Specify the optimizer, and compile the model with loss functions for both outputs\n",
        "optimizer = tf.keras.optimizers.SGD(learning_rate=0.001)\n",
        "\n",
        "model.compile(\n",
        "    optimizer=optimizer,\n",
        "    loss=[\n",
        "        'mse', \n",
        "        'mse'\n",
        "    ],\n",
        "    metrics=[\n",
        "        [tf.keras.metrics.RootMeanSquaredError()],\n",
        "        [tf.keras.metrics.RootMeanSquaredError()]\n",
        "    ]\n",
        ")"
      ],
      "outputs": [],
      "metadata": {
        "id": "EIHo25kbRsyd"
      }
    },
    {
      "cell_type": "markdown",
      "source": [
        "We use sklearn `train_test_split` to split our dataset with a given ratio."
      ],
      "metadata": {
        "id": "iQ9MW-1ZCsk_"
      }
    },
    {
      "cell_type": "code",
      "execution_count": 6,
      "source": [
        "import pandas as pd\n",
        "from sklearn.model_selection import train_test_split"
      ],
      "outputs": [],
      "metadata": {
        "id": "q9GNeiTuTx5B"
      }
    },
    {
      "cell_type": "code",
      "execution_count": 7,
      "source": [
        "# read the energy + efficiency data set from its URL\n",
        "dataset = pd.read_excel('https://archive.ics.uci.edu/ml/machine-learning-databases/00242/ENB2012_data.xlsx');\n",
        "# suffule the dataset, then reset the index column since we don't want it suffuled as well.\n",
        "dataset = dataset.sample(frac=1).reset_index(drop=True)"
      ],
      "outputs": [],
      "metadata": {
        "id": "lj2s0fikXcVH"
      }
    },
    {
      "cell_type": "markdown",
      "source": [
        "## Some Cleanup\n",
        "\n",
        "Aside from splitting the dataset into training and testing sets, we also need to split it into input and output, which is done by the `format_output` helper function."
      ],
      "metadata": {
        "id": "X1Yy0OkUDF7v"
      }
    },
    {
      "cell_type": "code",
      "execution_count": 8,
      "source": [
        "def format_output(data):\n",
        "    y1 = data.pop('Y1')\n",
        "    y1 = np.array(y1)\n",
        "    y2 = data.pop('Y2')\n",
        "    y2 = np.array(y2)\n",
        "    return y1, y2\n",
        "\n",
        "\n",
        "def norm(x):\n",
        "    return (x - train_stats['mean']) / train_stats['std']\n"
      ],
      "outputs": [],
      "metadata": {
        "id": "hoCUjZpMfJPa"
      }
    },
    {
      "cell_type": "code",
      "execution_count": 9,
      "source": [
        "# Split the data into train and test with 80 train / 20 test\n",
        "train, test = train_test_split(dataset, test_size=0.2)\n",
        "train_stats = train.describe()\n",
        "\n",
        "# Get Y1 and Y2 as the 2 outputs and format them as np arrays\n",
        "train_stats.pop('Y1')\n",
        "train_stats.pop('Y2')\n",
        "train_stats = train_stats.transpose()\n",
        "train_Y = format_output(train)\n",
        "test_Y = format_output(test)\n",
        "\n",
        "# Normalize the training and test data\n",
        "norm_train_X = norm(train)\n",
        "norm_test_X = norm(test)"
      ],
      "outputs": [],
      "metadata": {
        "id": "uHT2LewjfPgS"
      }
    },
    {
      "cell_type": "code",
      "execution_count": null,
      "source": [
        "# Train the model for 500 epochs\n",
        "history = model.fit(\n",
        "    norm_train_X, \n",
        "    np.array(train_Y).T,\n",
        "    epochs=500, \n",
        "    batch_size=10, \n",
        "    validation_data=(norm_test_X, test_Y)\n",
        ")"
      ],
      "outputs": [],
      "metadata": {
        "colab": {
          "base_uri": "https://localhost:8080/"
        },
        "id": "RbVdtE4QqX4X",
        "outputId": "d87a6d68-ac65-4a71-c813-9edb3d4fd56e"
      }
    },
    {
      "cell_type": "code",
      "execution_count": 11,
      "source": [
        "# Test the model and print loss and mse for both outputs\n",
        "loss, Y1_loss, Y2_loss, Y1_rmse, Y2_rmse = model.evaluate(x=norm_test_X, y=test_Y)\n",
        "print(\"Loss = {}, Y1_loss = {}, Y1_mse = {}, Y2_loss = {}, Y2_mse = {}\".format(loss, Y1_loss, Y1_rmse, Y2_loss, Y2_rmse))"
      ],
      "outputs": [
        {
          "output_type": "stream",
          "name": "stdout",
          "text": [
            "5/5 [==============================] - 0s 3ms/step - loss: 6.0626 - y1_output_loss: 2.9252 - y2_output_loss: 3.1374 - y1_output_root_mean_squared_error: 1.7103 - y2_output_root_mean_squared_error: 1.7713\n",
            "Loss = 6.062577724456787, Y1_loss = 2.925175189971924, Y1_mse = 1.710314393043518, Y2_loss = 3.1374025344848633, Y2_mse = 1.7712714672088623\n"
          ]
        }
      ],
      "metadata": {
        "colab": {
          "base_uri": "https://localhost:8080/"
        },
        "id": "Zzikcmrnq8o1",
        "outputId": "080ec3c5-63d9-4bef-a828-0cf63594a37a"
      }
    },
    {
      "cell_type": "code",
      "execution_count": 17,
      "source": [
        "import matplotlib.pyplot as plt\n",
        "\n",
        "plt.plot(history.history['loss']);\n",
        "plt.plot(history.history['y1_output_loss']);\n",
        "plt.plot(history.history['y2_output_loss']);"
      ],
      "outputs": [
        {
          "output_type": "display_data",
          "data": {
            "image/png": "[encoded data removed]",
            "text/plain": [
              "<Figure size 432x288 with 1 Axes>"
            ]
          },
          "metadata": {
            "needs_background": "light"
          }
        }
      ],
      "metadata": {
        "colab": {
          "base_uri": "https://localhost:8080/",
          "height": 269
        },
        "id": "r8YNzB77BYJ1",
        "outputId": "b6db54de-c5d3-41ec-d849-4d7f6e36849b"
      }
    },
    {
      "cell_type": "code",
      "execution_count": 14,
      "source": [
        "print(history.history.keys())"
      ],
      "outputs": [
        {
          "output_type": "stream",
          "name": "stdout",
          "text": [
            "dict_keys(['loss', 'y1_output_loss', 'y2_output_loss', 'y1_output_root_mean_squared_error', 'y2_output_root_mean_squared_error', 'val_loss', 'val_y1_output_loss', 'val_y2_output_loss', 'val_y1_output_root_mean_squared_error', 'val_y2_output_root_mean_squared_error'])\n"
          ]
        }
      ],
      "metadata": {
        "colab": {
          "base_uri": "https://localhost:8080/"
        },
        "id": "GZw7fgVjLV0D",
        "outputId": "5db91156-562c-4017-db81-23675cc52442"
      }
    }
  ]
}