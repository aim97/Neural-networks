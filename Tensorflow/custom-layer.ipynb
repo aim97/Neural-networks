{
 "cells": [
  {
   "cell_type": "markdown",
   "source": [
    "# Custom layer\n",
    "\n",
    "Tensorflow allows multiple customization levels, since sometimes you may not want to stick with what keras provides or, if you are a researcher trying to design a new layer, in those cases it would be helpful if you could just worry about the changes you want to make without worrying about the rest of the neural network.  \n",
    "\n",
    "Tensorflow provides multiple ways to create your own layer depending on how much customization you want.\n",
    "\n",
    "1. Using `Lambda` layers: they contain no trainable parameters and only apply certain functions to the model.\n",
    "2. Using a class that extends the `tf.keras.layers.Layer` class, and implements its methods.\n",
    "\n",
    "And in this notebook we will show both, so let's prepare some data and start playing with both."
   ],
   "metadata": {}
  },
  {
   "cell_type": "code",
   "execution_count": 4,
   "source": [
    "import tensorflow as tf\n",
    "import numpy as np"
   ],
   "outputs": [],
   "metadata": {}
  },
  {
   "cell_type": "markdown",
   "source": [
    "# Lambda layers\n",
    "\n",
    "It's a simply way to apply simple function that contain no parameters to the data, we use `tf.keras.layers.Lambda` to do that.\n",
    "\n",
    "let's say you want to create a layer that compute the absolute value. we first need to define the function we want\n",
    "\n",
    "```python\n",
    "my_abs = lambda x: tf.abs(x)\n",
    "```\n",
    "\n",
    "then pass it to the `Lambda` layer.\n",
    "\n",
    "```python\n",
    "from tf.keras.layers import Lambda\n",
    "\n",
    "...\n",
    "x = Lambda(my_abs)(x) \n",
    "...\n",
    "```"
   ],
   "metadata": {}
  },
  {
   "cell_type": "code",
   "execution_count": 5,
   "source": [
    "from tensorflow.keras.layers import Lambda, Dense"
   ],
   "outputs": [],
   "metadata": {}
  },
  {
   "cell_type": "code",
   "execution_count": 6,
   "source": [
    "# let's prepare some data for binary classification\n",
    "mid = 0.5\n",
    "\n",
    "x = np.linspace(-10, 10, 100)\n",
    "y = np.array(x > mid, dtype=np.float32)\n",
    "\n",
    "x_test = np.random.uniform(-10, 10, 20).reshape(-1, 1)\n",
    "y_test = np.array(x_test > mid, dtype=np.float32)\n",
    "\n",
    "%matplotlib inline\n",
    "import matplotlib.pyplot as plt\n",
    "\n",
    "plt.plot(x, y, 'ro')\n",
    "plt.plot(x_test, y_test, 'bo')\n",
    "plt.legend(['train', 'test'])"
   ],
   "outputs": [
    {
     "output_type": "execute_result",
     "data": {
      "text/plain": [
       "<matplotlib.legend.Legend at 0x1ee848cea30>"
      ]
     },
     "metadata": {},
     "execution_count": 6
    },
    {
     "output_type": "display_data",
     "data": {
      "image/png": "[encoded data removed]",
      "text/plain": [
       "<Figure size 432x288 with 1 Axes>"
      ]
     },
     "metadata": {
      "needs_background": "light"
     }
    }
   ],
   "metadata": {}
  },
  {
   "cell_type": "code",
   "execution_count": 7,
   "source": [
    "# create the simplest model, we will create a lambda layer that applies activation\n",
    "# to the output of previous linear layer\n",
    "\n",
    "model = tf.keras.Sequential([\n",
    "  Dense(1),\n",
    "  Lambda(tf.keras.activations.sigmoid),\n",
    "])"
   ],
   "outputs": [],
   "metadata": {}
  },
  {
   "cell_type": "code",
   "execution_count": 8,
   "source": [
    "model.compile(\n",
    "  optimizer='adam',\n",
    "  loss='binary_crossentropy',\n",
    "  metrics=['accuracy'],\n",
    ")"
   ],
   "outputs": [],
   "metadata": {}
  },
  {
   "cell_type": "code",
   "execution_count": 9,
   "source": [
    "history = model.fit(x, y, epochs=15, batch_size=1, validation_split=0.2)"
   ],
   "outputs": [
    {
     "output_type": "stream",
     "name": "stdout",
     "text": [
      "Epoch 1/15\n",
      "80/80 [==============================] - 1s 4ms/step - loss: 0.1145 - accuracy: 0.9750 - val_loss: 8.1153e-04 - val_accuracy: 1.0000\n",
      "Epoch 2/15\n",
      "80/80 [==============================] - 0s 2ms/step - loss: 0.1088 - accuracy: 0.9750 - val_loss: 5.6671e-04 - val_accuracy: 1.0000\n",
      "Epoch 3/15\n",
      "80/80 [==============================] - 0s 3ms/step - loss: 0.1036 - accuracy: 0.9750 - val_loss: 4.2045e-04 - val_accuracy: 1.0000\n",
      "Epoch 4/15\n",
      "80/80 [==============================] - 0s 2ms/step - loss: 0.0992 - accuracy: 0.9750 - val_loss: 3.0178e-04 - val_accuracy: 1.0000\n",
      "Epoch 5/15\n",
      "80/80 [==============================] - 0s 3ms/step - loss: 0.0954 - accuracy: 0.9750 - val_loss: 2.2652e-04 - val_accuracy: 1.0000\n",
      "Epoch 6/15\n",
      "80/80 [==============================] - 0s 3ms/step - loss: 0.0919 - accuracy: 0.9750 - val_loss: 1.7216e-04 - val_accuracy: 1.0000\n",
      "Epoch 7/15\n",
      "80/80 [==============================] - 0s 3ms/step - loss: 0.0888 - accuracy: 0.9750 - val_loss: 1.3208e-04 - val_accuracy: 1.0000\n",
      "Epoch 8/15\n",
      "80/80 [==============================] - 0s 3ms/step - loss: 0.0861 - accuracy: 0.9750 - val_loss: 1.0220e-04 - val_accuracy: 1.0000\n",
      "Epoch 9/15\n",
      "80/80 [==============================] - 0s 4ms/step - loss: 0.0837 - accuracy: 0.9750 - val_loss: 7.7446e-05 - val_accuracy: 1.0000\n",
      "Epoch 10/15\n",
      "80/80 [==============================] - 0s 3ms/step - loss: 0.0813 - accuracy: 0.9750 - val_loss: 6.2424e-05 - val_accuracy: 1.0000\n",
      "Epoch 11/15\n",
      "80/80 [==============================] - 0s 2ms/step - loss: 0.0793 - accuracy: 0.9750 - val_loss: 4.9123e-05 - val_accuracy: 1.0000\n",
      "Epoch 12/15\n",
      "80/80 [==============================] - 0s 2ms/step - loss: 0.0773 - accuracy: 0.9750 - val_loss: 3.9833e-05 - val_accuracy: 1.0000\n",
      "Epoch 13/15\n",
      "80/80 [==============================] - 0s 2ms/step - loss: 0.0756 - accuracy: 0.9750 - val_loss: 3.2149e-05 - val_accuracy: 1.0000\n",
      "Epoch 14/15\n",
      "80/80 [==============================] - 0s 2ms/step - loss: 0.0739 - accuracy: 0.9750 - val_loss: 2.5784e-05 - val_accuracy: 1.0000\n",
      "Epoch 15/15\n",
      "80/80 [==============================] - 0s 2ms/step - loss: 0.0724 - accuracy: 0.9875 - val_loss: 2.1169e-05 - val_accuracy: 1.0000\n"
     ]
    }
   ],
   "metadata": {}
  },
  {
   "cell_type": "code",
   "execution_count": 10,
   "source": [
    "model.evaluate(x_test, y_test)"
   ],
   "outputs": [
    {
     "output_type": "stream",
     "name": "stdout",
     "text": [
      "1/1 [==============================] - 0s 75ms/step - loss: 0.0132 - accuracy: 1.0000\n"
     ]
    },
    {
     "output_type": "execute_result",
     "data": {
      "text/plain": [
       "[0.013231480494141579, 1.0]"
      ]
     },
     "metadata": {},
     "execution_count": 10
    }
   ],
   "metadata": {}
  },
  {
   "cell_type": "code",
   "execution_count": 11,
   "source": [
    "plt.plot(history.history['accuracy'], label='accuracy')"
   ],
   "outputs": [
    {
     "output_type": "execute_result",
     "data": {
      "text/plain": [
       "[<matplotlib.lines.Line2D at 0x1ef968cc190>]"
      ]
     },
     "metadata": {},
     "execution_count": 11
    },
    {
     "output_type": "display_data",
     "data": {
      "image/png": "[encoded data removed]",
      "text/plain": [
       "<Figure size 432x288 with 1 Axes>"
      ]
     },
     "metadata": {
      "needs_background": "light"
     }
    }
   ],
   "metadata": {}
  },
  {
   "cell_type": "code",
   "execution_count": 12,
   "source": [
    "# history plots\n",
    "plt.plot(history.history['loss'], label='loss')\n",
    "plt.plot(history.history['val_loss'], label='val_loss')\n",
    "plt.legend()"
   ],
   "outputs": [
    {
     "output_type": "execute_result",
     "data": {
      "text/plain": [
       "<matplotlib.legend.Legend at 0x1ef984782b0>"
      ]
     },
     "metadata": {},
     "execution_count": 12
    },
    {
     "output_type": "display_data",
     "data": {
      "image/png": "[encoded data removed]",
      "text/plain": [
       "<Figure size 432x288 with 1 Axes>"
      ]
     },
     "metadata": {
      "needs_background": "light"
     }
    }
   ],
   "metadata": {}
  },
  {
   "cell_type": "markdown",
   "source": [
    "# Subclass Layer\n",
    "\n",
    "It allows for more custom layers, where you set your own variables and take care of everything regarding how the layer will work, but still tensorflow takes care for parameters update through the optimizer for you.\n",
    "\n",
    "You simply need to create a child class to `tf.keras.layers.Layer` class, and implement its methods\n",
    "\n",
    "```python\n",
    "class MyLayer(tf.keras.layers.Layer):\n",
    "  def __init__(self, layer_config):\n",
    "    super(MyLayer, self).__init__()\n",
    "    # set layers configuration, e.g. what activation to use, number of units ... etc.\n",
    "\n",
    "  def build(self, input_shape):\n",
    "    # set layers weights\n",
    "    # initialize them randomly or however you wish\n",
    "\n",
    "  def call(self, inputs):\n",
    "    # process the input with weights and give the output\n",
    "    return output\n",
    "```\n"
   ],
   "metadata": {}
  },
  {
   "cell_type": "code",
   "execution_count": null,
   "source": [
    "# inherit from this base class\n",
    "from tensorflow.keras.layers import Layer\n",
    "\n",
    "class SimpleDense(Layer):\n",
    "\n",
    "  def __init__(self, units=32):\n",
    "    '''Initializes the instance attributes'''\n",
    "    super(SimpleDense, self).__init__()\n",
    "    self.units = units\n",
    "\n",
    "  def build(self, input_shape):\n",
    "    '''Create the state of the layer (weights)'''\n",
    "    # initialize the weights\n",
    "    w_init = tf.random_normal_initializer()\n",
    "    self.w = tf.Variable(\n",
    "      name=\"kernel\",\n",
    "      initial_value=w_init(shape=(input_shape[-1], self.units), dtype='float32'),\n",
    "      trainable=True\n",
    "    )\n",
    "\n",
    "    # initialize the biases\n",
    "    b_init = tf.zeros_initializer()\n",
    "    self.b = tf.Variable(\n",
    "      name=\"bias\",\n",
    "      initial_value=b_init(shape=(self.units,), dtype='float32'),\n",
    "      trainable=True\n",
    "    )\n",
    "\n",
    "  def call(self, inputs):\n",
    "    '''Defines the computation from inputs to outputs'''\n",
    "    return tf.matmul(inputs, self.w) + self.b"
   ],
   "outputs": [],
   "metadata": {}
  }
 ],
 "metadata": {
  "orig_nbformat": 4,
  "language_info": {
   "name": "python",
   "version": "3.9.7",
   "mimetype": "text/x-python",
   "codemirror_mode": {
    "name": "ipython",
    "version": 3
   },
   "pygments_lexer": "ipython3",
   "nbconvert_exporter": "python",
   "file_extension": ".py"
  },
  "kernelspec": {
   "name": "python3",
   "display_name": "Python 3.9.7 64-bit ('TFX': conda)"
  },
  "interpreter": {
   "hash": "8290c4fa312f0275d52774cf1cfc50565c3a57a31ddf7b44870733d485867938"
  }
 },
 "nbformat": 4,
 "nbformat_minor": 2
}