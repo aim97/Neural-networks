{
 "cells": [
  {
   "cell_type": "markdown",
   "source": [
    "# Custom layer\n",
    "\n",
    "Tensorflow allows multiple customization levels, since sometimes you may not want to stick with what keras provides or, if you are a researcher trying to design a new layer, in those cases it would be helpful if you could just worry about the changes you want to make without worrying about the rest of the neural network.  \n",
    "\n",
    "Tensorflow provides multiple ways to create your own layer depending on how much customization you want.\n",
    "\n",
    "1. Using `Lambda` layers: they contain no trainable parameters and only apply certain functions to the model.\n",
    "2. Using a class that extends the `tf.keras.layers.Layer` class, and implements its methods.\n",
    "\n",
    "And in this notebook we will show both.\n"
   ],
   "metadata": {}
  },
  {
   "cell_type": "code",
   "execution_count": null,
   "source": [
    "import tensorflow as tf\n",
    "import numpy as np"
   ],
   "outputs": [],
   "metadata": {}
  },
  {
   "cell_type": "markdown",
   "source": [
    "# Lambda layers\n",
    "\n",
    "It's a simply way to apply simple function that contain no parameters to the data, we use `tf.keras.layers.Lambda` to do that.\n",
    "\n",
    "let's say you want to create a layer that compute the absolute value. we first need to define the function we want\n",
    "\n",
    "```python\n",
    "my_abs = lambda x: tf.abs(x)\n",
    "```\n",
    "\n",
    "then pass it to the `Lambda` layer.\n",
    "\n",
    "```python\n",
    "from tf.keras.layers import Lambda\n",
    "\n",
    "\n",
    "...\n",
    "x = Lambda(my_abs)(x) \n",
    "...\n",
    "```"
   ],
   "metadata": {}
  },
  {
   "cell_type": "markdown",
   "source": [],
   "metadata": {}
  },
  {
   "cell_type": "markdown",
   "source": [
    "# Subclass Layer\n",
    "\n",
    "It allows for more custom layers, where you set your own variables and take care of everything regarding how the layer will work, but still tensorflow takes care for parameters update through the optimizer for you.\n",
    "\n",
    "You simply need to create a child class to `tf.keras.layers.Layer` class, and implement its methods\n",
    "\n",
    "```python\n",
    "class MyLayer(tf.keras.layers.Layer):\n",
    "  def __init__(self, layer_config):\n",
    "    super(MyLayer, self).__init__()\n",
    "    # set layers configuration, e.g. what activation to use, number of units ... etc.\n",
    "\n",
    "  def build(self, input_shape):\n",
    "    # set layers weights\n",
    "    # initialize them randomly or however you wish\n",
    "\n",
    "  def call(self, inputs):\n",
    "    # process the input with weights and give the output\n",
    "    return output\n",
    "```\n"
   ],
   "metadata": {}
  },
  {
   "cell_type": "code",
   "execution_count": null,
   "source": [],
   "outputs": [],
   "metadata": {}
  }
 ],
 "metadata": {
  "orig_nbformat": 4,
  "language_info": {
   "name": "python"
  }
 },
 "nbformat": 4,
 "nbformat_minor": 2
}