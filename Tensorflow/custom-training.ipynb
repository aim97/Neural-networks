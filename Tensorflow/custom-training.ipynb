{
 "cells": [
  {
   "cell_type": "markdown",
   "source": [
    "# Custom training\n",
    "\n",
    "Sometimes, I don't know when or even why, but sometimes, you would want to write the training loop on your own, and when that happens you may find this helpful (and while you are at it, tell me why you are doing this).\n",
    "\n",
    "So far, we talked about customizing multiple parts of the process, like the loss function, building your own custom layers, and callbacks, now we will implement the training loop that tensorflow works with using `GradientTape` and see how metrics are calculated within it.\n",
    "\n",
    "For the purposes of this notebook, we will be using the Fashion MNIST dataset, with a model built with the squential API (we are customizing the training not the model)."
   ],
   "metadata": {}
  },
  {
   "cell_type": "code",
   "execution_count": 1,
   "source": [
    "import tensorflow as tf\n",
    "import numpy as np\n",
    "import matplotlib.pyplot as plt\n",
    "%matplotlib inline"
   ],
   "outputs": [],
   "metadata": {}
  },
  {
   "cell_type": "code",
   "execution_count": 2,
   "source": [
    "# Load the data\n",
    "import tensorflow_datasets as tfds\n",
    "\n",
    "train_data = tfds.load('fashion_mnist', split=\"train\")\n",
    "test_data = tfds.load('fashion_mnist', split=\"test\")\n",
    "\n",
    "def format_image(data):\n",
    "  image = data[\"image\"]\n",
    "  image = tf.reshape(image, [-1])\n",
    "  image = tf.cast(image, 'float32')\n",
    "  image = image / 255.0\n",
    "  return image, data[\"label\"]\n",
    "\n",
    "train_data = train_data.map(format_image)\n",
    "test_data = test_data.map(format_image)\n",
    "\n",
    "batch_size = 64\n",
    "\n",
    "train_data = train_data.shuffle(1024).batch(batch_size) # Shuffle the data with a buffer size of 1024 (this helps with small memory size)\n",
    "test_data = test_data.batch(batch_size)"
   ],
   "outputs": [],
   "metadata": {}
  },
  {
   "cell_type": "code",
   "execution_count": 3,
   "source": [
    "# Define the model\n",
    "model = tf.keras.models.Sequential([\n",
    "  tf.keras.Input(shape=(784,)),\n",
    "  tf.keras.layers.Dense(64, activation='relu'),\n",
    "  tf.keras.layers.Dense(64, activation='relu'),\n",
    "  tf.keras.layers.Dense(10, activation='softmax')\n",
    "])"
   ],
   "outputs": [],
   "metadata": {}
  },
  {
   "cell_type": "markdown",
   "source": [
    "From this cell forward, we will be implementing everything our selves, albeit with a bit of help from the `GradientTape` API, and other tensorflow functions, we are just connecting them together."
   ],
   "metadata": {}
  },
  {
   "cell_type": "code",
   "execution_count": 4,
   "source": [
    "# Define the loss function\n",
    "# We will use sparse_categorical_crossentropy\n",
    "loss_fn = tf.keras.losses.SparseCategoricalCrossentropy()\n",
    "\n",
    "# Define the optimizer\n",
    "# We will use Adam\n",
    "optimizer = tf.keras.optimizers.Adam()\n",
    "\n",
    "# Define the metrics\n",
    "# We will use accuracy\n",
    "metrics = [tf.keras.metrics.SparseCategoricalAccuracy()]\n",
    "validation_metrics = [tf.keras.metrics.SparseCategoricalAccuracy()]"
   ],
   "outputs": [],
   "metadata": {}
  },
  {
   "cell_type": "markdown",
   "source": [
    "# train step\n",
    "\n",
    "We will make a function that does the training for 1 batch of data, and update the model. it should return the predictions (which is needed for the metrics) and the losses (for plotting)."
   ],
   "metadata": {}
  },
  {
   "cell_type": "code",
   "execution_count": 5,
   "source": [
    "def train_step(train_data, train_labels, model, optimizer, loss_fn):\n",
    "  with tf.GradientTape() as tape:\n",
    "    predictions = model(train_data)\n",
    "    loss = loss_fn(train_labels, predictions)\n",
    "  gradients = tape.gradient(loss, model.trainable_variables)\n",
    "  optimizer.apply_gradients(zip(gradients, model.trainable_variables))\n",
    "  \n",
    "  return predictions, loss"
   ],
   "outputs": [],
   "metadata": {}
  },
  {
   "cell_type": "markdown",
   "source": [
    "# Epoch\n",
    "\n",
    "We will create a function that handles training for one epoch. all it does is calling `train_step` for all batches in the training set provided, then update the metrics."
   ],
   "metadata": {}
  },
  {
   "cell_type": "code",
   "execution_count": 6,
   "source": [
    "def train_for_epoch(train_data, model, optimizer, loss_fn, metrics):\n",
    "  losses = []\n",
    "  for (batch, (train_x, train_y)) in enumerate(train_data):\n",
    "    predictions, loss = train_step(train_x, train_y, model, optimizer, loss_fn)\n",
    "    losses.append(loss.numpy())\n",
    "  \n",
    "    for metric in metrics:\n",
    "      metric.update_state(train_y, predictions)\n",
    "\n",
    "  return losses\n"
   ],
   "outputs": [],
   "metadata": {}
  },
  {
   "cell_type": "code",
   "execution_count": 7,
   "source": [
    "def apply_validation(test_data, model, loss_fn, metrics):\n",
    "  losses = []\n",
    "  for (batch, (test_x, test_y)) in enumerate(test_data):\n",
    "    predictions = model(test_x)\n",
    "    loss = loss_fn(test_y, predictions)\n",
    "    losses.append(loss.numpy())\n",
    "\n",
    "    for metric in metrics:\n",
    "      metric.update_state(test_y, predictions)\n",
    "  return losses"
   ],
   "outputs": [],
   "metadata": {}
  },
  {
   "cell_type": "code",
   "execution_count": 8,
   "source": [
    "def train(data, model, optimizer, loss_fn, metrics, epochs):\n",
    "  train_metrics, validation_metrics = metrics\n",
    "  train, test = data\n",
    "\n",
    "  history = {\n",
    "    'train_loss': [],\n",
    "    'validation_loss': [],\n",
    "  }\n",
    "  for epoch in range(epochs):\n",
    "    # train for one epoch\n",
    "    losses = train_for_epoch(train, model, optimizer, loss_fn, train_metrics)\n",
    "\n",
    "    # compute training metrics\n",
    "    metrics_values = {m.name: m.result() for m in train_metrics}\n",
    "    for metric in train_metrics:\n",
    "      metric.reset_states()\n",
    "    \n",
    "    # compute validation losses\n",
    "    val_losses = apply_validation(test, model, loss_fn, validation_metrics)\n",
    "    \n",
    "    # compute validation metrics\n",
    "    val_metrics_values = {m.name: m.result() for m in validation_metrics}\n",
    "    for metric in validation_metrics:\n",
    "      metric.reset_states()\n",
    "\n",
    "    # compute training and validation loss\n",
    "    mean_loss = np.mean(losses)\n",
    "    mean_val_loss = np.mean(val_losses)\n",
    "    history['train_loss'].append(mean_loss)\n",
    "    history['validation_loss'].append(mean_val_loss)\n",
    "\n",
    "    # print metrics\n",
    "    print(\"Epoch: {}, Loss: {}, Validation Loss: {}\".format(epoch, mean_loss, mean_val_loss))\n",
    "    print(', '.join([\"train_{}: {}\".format(k, v) for k, v in metrics_values.items()]))\n",
    "    print(', '.join([\"val_{}: {}\".format(k, v) for k, v in val_metrics_values.items()]))\n",
    "    print()\n",
    "  \n",
    "  return history"
   ],
   "outputs": [],
   "metadata": {}
  },
  {
   "cell_type": "code",
   "execution_count": 9,
   "source": [
    "history = train(\n",
    "  data=(train_data, test_data), \n",
    "  model=model, \n",
    "  optimizer=optimizer, \n",
    "  loss_fn=loss_fn, \n",
    "  metrics=(metrics, validation_metrics), \n",
    "  epochs=10\n",
    ")"
   ],
   "outputs": [
    {
     "output_type": "stream",
     "name": "stdout",
     "text": [
      "Epoch: 0, Loss: 0.5363800525665283, Validation Loss: 0.4358713924884796\n",
      "train_sparse_categorical_accuracy: 0.8123000264167786\n",
      "val_sparse_categorical_accuracy: 0.8457000255584717\n",
      "\n",
      "Epoch: 1, Loss: 0.3871501684188843, Validation Loss: 0.4001929759979248\n",
      "train_sparse_categorical_accuracy: 0.8608499765396118\n",
      "val_sparse_categorical_accuracy: 0.8568000197410583\n",
      "\n",
      "Epoch: 2, Loss: 0.35358989238739014, Validation Loss: 0.37780216336250305\n",
      "train_sparse_categorical_accuracy: 0.8716999888420105\n",
      "val_sparse_categorical_accuracy: 0.8675000071525574\n",
      "\n",
      "Epoch: 3, Loss: 0.3306913375854492, Validation Loss: 0.3715239465236664\n",
      "train_sparse_categorical_accuracy: 0.879016637802124\n",
      "val_sparse_categorical_accuracy: 0.8702999949455261\n",
      "\n",
      "Epoch: 4, Loss: 0.3126378059387207, Validation Loss: 0.3604251742362976\n",
      "train_sparse_categorical_accuracy: 0.8846166729927063\n",
      "val_sparse_categorical_accuracy: 0.8748999834060669\n",
      "\n",
      "Epoch: 5, Loss: 0.29853934049606323, Validation Loss: 0.3783731460571289\n",
      "train_sparse_categorical_accuracy: 0.8897166848182678\n",
      "val_sparse_categorical_accuracy: 0.8651000261306763\n",
      "\n",
      "Epoch: 6, Loss: 0.288186639547348, Validation Loss: 0.3472147285938263\n",
      "train_sparse_categorical_accuracy: 0.8938999772071838\n",
      "val_sparse_categorical_accuracy: 0.8762999773025513\n",
      "\n",
      "Epoch: 7, Loss: 0.27596843242645264, Validation Loss: 0.35300806164741516\n",
      "train_sparse_categorical_accuracy: 0.897849977016449\n",
      "val_sparse_categorical_accuracy: 0.8795999884605408\n",
      "\n",
      "Epoch: 8, Loss: 0.26612532138824463, Validation Loss: 0.3585801422595978\n",
      "train_sparse_categorical_accuracy: 0.9017333388328552\n",
      "val_sparse_categorical_accuracy: 0.8756999969482422\n",
      "\n",
      "Epoch: 9, Loss: 0.2572275996208191, Validation Loss: 0.35337522625923157\n",
      "train_sparse_categorical_accuracy: 0.9039499759674072\n",
      "val_sparse_categorical_accuracy: 0.8792999982833862\n",
      "\n"
     ]
    }
   ],
   "metadata": {}
  },
  {
   "cell_type": "code",
   "execution_count": 11,
   "source": [
    "# plot the training and validation loss\n",
    "plt.plot(history['train_loss'], label='train loss')\n",
    "plt.plot(history['validation_loss'], label='validation loss')\n",
    "plt.legend()"
   ],
   "outputs": [
    {
     "output_type": "execute_result",
     "data": {
      "text/plain": [
       "<matplotlib.legend.Legend at 0x204cb47a190>"
      ]
     },
     "metadata": {},
     "execution_count": 11
    },
    {
     "output_type": "display_data",
     "data": {
      "image/png": "[encoded data removed]",
      "text/plain": [
       "<Figure size 432x288 with 1 Axes>"
      ]
     },
     "metadata": {
      "needs_background": "light"
     }
    }
   ],
   "metadata": {}
  }
 ],
 "metadata": {
  "orig_nbformat": 4,
  "language_info": {
   "name": "python",
   "version": "3.9.7",
   "mimetype": "text/x-python",
   "codemirror_mode": {
    "name": "ipython",
    "version": 3
   },
   "pygments_lexer": "ipython3",
   "nbconvert_exporter": "python",
   "file_extension": ".py"
  },
  "kernelspec": {
   "name": "python3",
   "display_name": "Python 3.9.7 64-bit ('TFX': conda)"
  },
  "interpreter": {
   "hash": "8290c4fa312f0275d52774cf1cfc50565c3a57a31ddf7b44870733d485867938"
  }
 },
 "nbformat": 4,
 "nbformat_minor": 2
}