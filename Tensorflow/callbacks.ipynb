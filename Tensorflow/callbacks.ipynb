{
 "cells": [
  {
   "cell_type": "markdown",
   "source": [
    "# Callbacks\n",
    "\n",
    "often you may want to do something with your model at some point during training, for example save the model, stop training, change the learning rate, etc. if you were writing your own training loop, you could add the functions you want to call at each step, but since you are using a fit function provided by Tensorflow you can't do that. in return Tensorflow provides away to achieve this goal with callbacks.\n",
    "\n",
    "Callbacks are objects extending the `tf.keras.callbacks.Callback` class. They are passed to the `fit` function (or any function that operates the model e.g. `evaluate` or `predict`), they include a set of methods to be called when certain events occur during training.\n",
    "\n",
    "## Events of interest\n",
    "\n",
    "For each event you want to execute the call back must implement a method with the same name as the event, for example `on_epoch_end` for the `epoch_end` event.\n",
    "\n",
    "### Global methods\n",
    "\n",
    "1. `on_(train|test|predict)_begin(self, logs=None)`: Called at the beginning of fit/evaluate/predict.\n",
    "2. `on_(train|test|predict)_end(self, logs=None)`: Called at the end of fit/evaluate/predict.\n",
    "\n",
    "### Batch-level methods for training/testing/predicting\n",
    "\n",
    "1. `on_(train|test|predict)_batch_begin(self, batch, logs=None)`: Called right before processing a batch during training/testing/predicting.\n",
    "2. `on_(train|test|predict)_batch_end(self, batch, logs=None)`: Called at the end of training/testing/predicting a batch. Within this method, logs is a dict containing the metrics results.\n",
    "\n",
    "### Epoch-level methods (training only) **Most used**\n",
    "\n",
    "1. `on_epoch_begin(self, epoch, logs=None)`: Called at the beginning of an epoch during training.\n",
    "2. `on_epoch_end(self, epoch, logs=None)`: Called at the end of an epoch during training.\n",
    "\n"
   ],
   "metadata": {}
  },
  {
   "cell_type": "code",
   "execution_count": null,
   "source": [],
   "outputs": [],
   "metadata": {}
  }
 ],
 "metadata": {
  "orig_nbformat": 4,
  "language_info": {
   "name": "python"
  }
 },
 "nbformat": 4,
 "nbformat_minor": 2
}