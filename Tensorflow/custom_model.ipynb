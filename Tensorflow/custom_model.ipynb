{
 "cells": [
  {
   "cell_type": "markdown",
   "source": [
    "# Custom Model \n",
    "\n",
    "We can build models by multiple ways, initally we were using the `Sequential` model, which enables us to stack layers on top of one another, simple and easy to use and understand for beginners.  \n",
    "\n",
    "But as our needs became more complicated, we wanted to connect layers in all sorts of ways, which can't be achieved with the `Sequential` model, and so we tended to use the `Functional API`, which allows layers to have multiple inputs or multiple output.  \n",
    "\n",
    "The `Functional API` is actually perfect but we want to its components to be as simple as possible, and to do that we can extend the `Model` class, which will allow us to define reusable models that can be used to build complex models.\n",
    "\n",
    "this is done as follows:\n",
    "\n",
    "```python\n",
    "class CustomModel(Model):\n",
    "  def __init__(self, customization_args):\n",
    "    super(CustomModel, self).__init__()\n",
    "    # define the layers here\n",
    "    # for example:\n",
    "    self.dense_layer = Dense(customization_args['units'])\n",
    "\n",
    "  def call(self, inputs, training=None, mask=None):\n",
    "    # define the forward pass here (connect the layers with input here)\n",
    "    output = self.dense_layer(inputs)\n",
    "\n",
    "    return output\n",
    "\n",
    "```\n",
    "\n",
    "You need to implement at least 2 methods:\n",
    "\n",
    "1. `__init__`: This method is called when the model is created. It is used to define the layers of the model.\n",
    "2. `call`: This method is called when the model is used to make predictions. It is used to define the forward pass of the model.\n",
    "\n",
    "The advatages of using the `Model` subclass is that it would allow you to use the functionality defined by keras, like fitting, evaluation, saving and loading models.  \n"
   ],
   "metadata": {}
  },
  {
   "cell_type": "code",
   "execution_count": null,
   "source": [
    "import tensorflow as tf\n",
    "\n",
    "class MyModel(tf.keras.Model):\n",
    "  def __init__(self):\n",
    "    super(MyModel, self).__init__()\n",
    "    self.dense1 = tf.keras.layers.Dense(10, activation='relu')\n",
    "    self.dense2 = tf.keras.layers.Dense(1, activation='sigmoid')\n",
    "\n",
    "  def call(self, inputs):\n",
    "    x = self.dense1(inputs)\n",
    "    x = self.dense2(x)\n",
    "    return x"
   ],
   "outputs": [],
   "metadata": {}
  },
  {
   "cell_type": "markdown",
   "source": [
    "Now we will define some custom models, and demonstrate how to use them.\n"
   ],
   "metadata": {}
  }
 ],
 "metadata": {
  "orig_nbformat": 4,
  "language_info": {
   "name": "python"
  }
 },
 "nbformat": 4,
 "nbformat_minor": 2
}