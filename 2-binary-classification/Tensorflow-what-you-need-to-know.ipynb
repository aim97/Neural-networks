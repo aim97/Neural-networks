{
 "cells": [
  {
   "cell_type": "markdown",
   "metadata": {
    "collapsed": true,
    "pycharm": {
     "name": "#%% md\n"
    }
   },
   "source": [
    "# Tensorflow\n",
    "\n",
    "## content\n",
    "1. Tensorflow 1 workflow\n",
    "2. Tensorflow 2 what's new\n",
    "3. Model training in tensorflow 2.0\n",
    "4. Usually used functions"
   ]
  },
  {
   "cell_type": "markdown",
   "metadata": {
    "pycharm": {
     "name": "#%% md\n"
    }
   },
   "source": [
    "## Tensorflow1 Workflow\n",
    "<img src=\"./Tensorflow-work-flow.png\">\n",
    "![Tensorflow-work-flow](./Tensorflow-work-flow.png)\n",
    "The *philosophy* behind tensorflow is based on the **computation graph**, you first have to specify how the model will work through the computation graph, how will the flow of data and operations should go through the model, this part is just **DECLARATIVE**, you don't do any compuations here, you simply specify how the computations will be done.  \n",
    "\n",
    "Then you need to specify some settings, as we know *Neural-nets* work with many *hyper parameters* like learning rate, as well as some operations like the *loss function* and what what *optimizer* to use, all of this affect the results and is done through the *settings* stage.\n",
    "\n",
    "Now we have a clear idea about how the computation will occur in the model and how the model should be trained we have to start a ***Session***, whatever work you want tensorflow to do, it has to be done within the scope of a session.\n",
    "\n",
    "Remember that we said the computation graph is a declarative process, so in order to work with what we declared we have to actually initialize it, and allocate memory for it first *(we will see how to do that in a minute)*.  \n",
    "Training the model, this what we actually use tensorflow for, given the computation graph you provided tensorflow randomly initializes the weights, runs the graph as you specified it and takes care of the awkward path for you.\n",
    "\n",
    "This is the overall view of how **Tensorflow** works, in the up coming sections we will see how each of those stages are done then later we will include further possible changes to this diagram.  "
   ]
  },
  {
   "cell_type": "markdown",
   "metadata": {},
   "source": [
    "# Tensorflow 2 What's new\n",
    "you see all that we have there, this is all from the past, the past were to tensorflow was really hard to code and work with, so what have changed?\n",
    "\n",
    "- No more Sessions and welcome Eager execution: rather than cutting the work flow into declarative part to define the graph and execution part within the session, now *tensorflow code is like any other code*, you write your code and execute it in the spot.\n",
    "- Keras is now more implemented inside tensorflow and become more scalable: estimators were removed and now your work will scale on its own.\n",
    "- API clean up (strctured update): changes in function names, modules, most of v1.x stuff were moved under ***tf.compat.v1. ...*** you can use it from there, except the contrib part which was removed for good.\n",
    "- No more globals: if you lose a variable it gets garbage collected.\n",
    "\n",
    "[watch this](https://www.youtube.com/watch?v=k5c-vg4rjBw)  \n",
    "[for more details](https://www.tensorflow.org/guide/effective_tf2)\n"
   ]
  },
  {
   "cell_type": "markdown",
   "metadata": {},
   "source": [
    "### Examples on Tensorflow 2"
   ]
  },
  {
   "cell_type": "code",
   "execution_count": 1,
   "metadata": {},
   "outputs": [],
   "source": [
    "# import numpy as np\n",
    "import tensorflow as tf\n",
    "# import matplotlib.pyplot as plt"
   ]
  },
  {
   "cell_type": "code",
   "execution_count": 2,
   "metadata": {},
   "outputs": [
    {
     "name": "stdout",
     "output_type": "stream",
     "text": [
      "tf.Tensor(9, shape=(), dtype=int32)\n"
     ]
    }
   ],
   "source": [
    "a = tf.constant(4)\n",
    "b = tf.constant(5)\n",
    "c = a + b\n",
    "print(c)"
   ]
  },
  {
   "cell_type": "code",
   "execution_count": null,
   "metadata": {},
   "outputs": [],
   "source": [
    "x = tf.placeholder"
   ]
  },
  {
   "cell_type": "markdown",
   "metadata": {},
   "source": [
    "## Model training in Tensorflow 2\n",
    "it's very similar to the diagram above except with no sessions, you first define the model, *compile it*, train it, then run it. "
   ]
  },
  {
   "cell_type": "code",
   "execution_count": null,
   "metadata": {},
   "outputs": [],
   "source": []
  }
 ],
 "metadata": {
  "kernelspec": {
   "display_name": "Python 3",
   "language": "python",
   "name": "python3"
  },
  "language_info": {
   "codemirror_mode": {
    "name": "ipython",
    "version": 3
   },
   "file_extension": ".py",
   "mimetype": "text/x-python",
   "name": "python",
   "nbconvert_exporter": "python",
   "pygments_lexer": "ipython3",
   "version": "3.6.9"
  }
 },
 "nbformat": 4,
 "nbformat_minor": 1
}